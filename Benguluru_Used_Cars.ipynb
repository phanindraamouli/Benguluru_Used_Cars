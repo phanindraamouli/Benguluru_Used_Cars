{
 "cells": [
  {
   "cell_type": "code",
   "execution_count": 2,
   "id": "c55c1c3b",
   "metadata": {},
   "outputs": [],
   "source": [
    "import pandas as pd\n",
    "import numpy as np\n",
    "from bs4 import BeautifulSoup\n",
    "import requests\n",
    "import re"
   ]
  },
  {
   "cell_type": "markdown",
   "id": "24bc20ea",
   "metadata": {},
   "source": [
    "# Web Scrapping"
   ]
  },
  {
   "cell_type": "code",
   "execution_count": 3,
   "id": "5f5ae21b-5131-455f-b6a3-eb5fd703de7c",
   "metadata": {},
   "outputs": [
    {
     "data": {
      "text/plain": [
       "(720, 720, 720)"
      ]
     },
     "execution_count": 3,
     "metadata": {},
     "output_type": "execute_result"
    }
   ],
   "source": [
    "final=[]\n",
    "prices=[]\n",
    "ki=[]\n",
    "for i in range(2,32):\n",
    "    url = 'https://www.cartrade.com/buy-used-cars/bangalore/c/page-'+str(i)+'/#so=-1&sc=-1&city=2'\n",
    "    #print(url)\n",
    "    page=requests.get(url)\n",
    "    soup=BeautifulSoup(page.content)\n",
    "    \n",
    "    for j in soup.find_all('a',class_='font-muli'): #tag = a for name,year,mnodel\n",
    "        final.append(\" \".join(re.findall('\\w+',j.text)))\n",
    "    for g in soup.find_all('div',class_='price_EMI font-muli'): # tag div for price\n",
    "        prices.append(g.text)\n",
    "    for i in soup.find_all('span',class_='carInfo'): # tag span for kms,fuel_type,location\n",
    "        ki.append(i.text.strip())\n",
    "len(final), len(prices), len(ki)"
   ]
  },
  {
   "cell_type": "code",
   "execution_count": 4,
   "id": "6b1dab5d-1772-45b7-9713-9836ccfa4ede",
   "metadata": {},
   "outputs": [
    {
     "data": {
      "text/plain": [
       "['2016 Hyundai Creta 1 6 SX Plus AT 11 75 000 Make Offer 45 315 KMs Diesel Singasandra Bangalore CONTACT SELLER',\n",
       " '2021 Hyundai Creta SX O 1 5 Petrol CVT 2020 2022 16 85 000 Make Offer 15 925 KMs Petrol Singasandra Bangalore CONTACT SELLER',\n",
       " '2021 Hyundai Creta SX 1 5 Petrol Executive 14 65 000 Make Offer 5 070 KMs Petrol Singasandra Bangalore CONTACT SELLER',\n",
       " '2022 Mahindra XUV700 AX 7 Diesel AT AWD Luxury Pack 7 STR 2021 26 95 000 Make Offer 29 705 KMs Diesel Singasandra Bangalore CONTACT SELLER',\n",
       " '2018 Mahindra XUV500 W7 AT 2018 2020 13 45 000 Make Offer 49 131 KMs Diesel Singasandra Bangalore CONTACT SELLER',\n",
       " '2022 Tata Nexon XZ Plus Diesel Dark Edition 2021 2023 12 95 000 Make Offer 12 336 KMs Diesel Singasandra Bangalore CONTACT SELLER',\n",
       " '2020 BMW 3 Series 320d Sport Line 2016 2018 45 25 000 Make Offer 44 244 KMs Diesel BTM Layout Bangalore CONTACT SELLER',\n",
       " '2019 Maruti Suzuki Ertiga ZXi AT 10 80 000 Make Offer 48 486 KMs Petrol Singasandra Bangalore CONTACT SELLER',\n",
       " '2020 Hyundai Creta SX O 1 5 Diesel Automatic 2020 2022 17 65 000 Make Offer 31 092 KMs Diesel Singasandra Bangalore CONTACT SELLER',\n",
       " '2021 Maruti Suzuki Ertiga ZXi AT 11 85 000 Make Offer 8 412 KMs Petrol Singasandra Bangalore CONTACT SELLER']"
      ]
     },
     "execution_count": 4,
     "metadata": {},
     "output_type": "execute_result"
    }
   ],
   "source": [
    "final[0:10]"
   ]
  },
  {
   "cell_type": "code",
   "execution_count": 5,
   "id": "d5008062",
   "metadata": {},
   "outputs": [
    {
     "data": {
      "text/plain": [
       "720"
      ]
     },
     "execution_count": 5,
     "metadata": {},
     "output_type": "execute_result"
    }
   ],
   "source": [
    "price_pattern = re.compile(r'₹[\\d,]+')\n",
    "\n",
    "# Extracting and cleaning prices that match the pattern\n",
    "clean_prices = [re.search(price_pattern, price.strip()).group(0) for price in prices if re.search(price_pattern, price.strip())]\n",
    "\n",
    "len(clean_prices)\n"
   ]
  },
  {
   "cell_type": "code",
   "execution_count": 6,
   "id": "7fe326ad",
   "metadata": {},
   "outputs": [
    {
     "data": {
      "text/plain": [
       "['45,315 KMs\\n\\t\\t\\t\\t\\t\\t\\t\\t\\t\\t\\t\\t\\t\\xa0|\\xa0\\n\\t\\t\\t\\t\\t\\t\\t\\t\\t\\t\\t\\t\\tDiesel\\n\\t\\t\\t\\t\\t\\t\\t\\t\\t\\t\\t\\t\\t\\xa0|\\xa0\\n\\t\\t\\t\\t\\t\\t\\t\\t\\t\\t\\t\\t\\tSingasandra, Bangalore',\n",
       " '15,925 KMs\\n\\t\\t\\t\\t\\t\\t\\t\\t\\t\\t\\t\\t\\t\\xa0|\\xa0\\n\\t\\t\\t\\t\\t\\t\\t\\t\\t\\t\\t\\t\\tPetrol\\n\\t\\t\\t\\t\\t\\t\\t\\t\\t\\t\\t\\t\\t\\xa0|\\xa0\\n\\t\\t\\t\\t\\t\\t\\t\\t\\t\\t\\t\\t\\tSingasandra, Bangalore',\n",
       " '5,070 KMs\\n\\t\\t\\t\\t\\t\\t\\t\\t\\t\\t\\t\\t\\t\\xa0|\\xa0\\n\\t\\t\\t\\t\\t\\t\\t\\t\\t\\t\\t\\t\\tPetrol\\n\\t\\t\\t\\t\\t\\t\\t\\t\\t\\t\\t\\t\\t\\xa0|\\xa0\\n\\t\\t\\t\\t\\t\\t\\t\\t\\t\\t\\t\\t\\tSingasandra, Bangalore',\n",
       " '29,705 KMs\\n\\t\\t\\t\\t\\t\\t\\t\\t\\t\\t\\t\\t\\t\\xa0|\\xa0\\n\\t\\t\\t\\t\\t\\t\\t\\t\\t\\t\\t\\t\\tDiesel\\n\\t\\t\\t\\t\\t\\t\\t\\t\\t\\t\\t\\t\\t\\xa0|\\xa0\\n\\t\\t\\t\\t\\t\\t\\t\\t\\t\\t\\t\\t\\tSingasandra, Bangalore',\n",
       " '49,131 KMs\\n\\t\\t\\t\\t\\t\\t\\t\\t\\t\\t\\t\\t\\t\\xa0|\\xa0\\n\\t\\t\\t\\t\\t\\t\\t\\t\\t\\t\\t\\t\\tDiesel\\n\\t\\t\\t\\t\\t\\t\\t\\t\\t\\t\\t\\t\\t\\xa0|\\xa0\\n\\t\\t\\t\\t\\t\\t\\t\\t\\t\\t\\t\\t\\tSingasandra, Bangalore']"
      ]
     },
     "execution_count": 6,
     "metadata": {},
     "output_type": "execute_result"
    }
   ],
   "source": [
    "ki[0:5]"
   ]
  },
  {
   "cell_type": "code",
   "execution_count": 7,
   "id": "10837657",
   "metadata": {},
   "outputs": [],
   "source": [
    "kmfuelloc=[]\n",
    "for i in ki:\n",
    "    clean_text = re.sub(r'[\\n\\t\\xa0]', '', i)\n",
    "    kmfuelloc.append(clean_text)"
   ]
  },
  {
   "cell_type": "code",
   "execution_count": 8,
   "id": "254581ad",
   "metadata": {},
   "outputs": [
    {
     "data": {
      "text/plain": [
       "720"
      ]
     },
     "execution_count": 8,
     "metadata": {},
     "output_type": "execute_result"
    }
   ],
   "source": [
    "len(kmfuelloc)"
   ]
  },
  {
   "cell_type": "code",
   "execution_count": 9,
   "id": "a1eda339",
   "metadata": {},
   "outputs": [
    {
     "name": "stdout",
     "output_type": "stream",
     "text": [
      "720\n",
      "720\n",
      "720\n"
     ]
    }
   ],
   "source": [
    "print(len(final))\n",
    "print(len(clean_prices))\n",
    "print(len(kmfuelloc))"
   ]
  },
  {
   "cell_type": "code",
   "execution_count": 10,
   "id": "11dbcee6",
   "metadata": {},
   "outputs": [],
   "source": [
    "df = pd.DataFrame({'Name': final,\n",
    "    'Price': clean_prices,\n",
    "    'Km': kmfuelloc})"
   ]
  },
  {
   "cell_type": "code",
   "execution_count": 11,
   "id": "bfca43dc",
   "metadata": {},
   "outputs": [
    {
     "data": {
      "text/html": [
       "<div>\n",
       "<style scoped>\n",
       "    .dataframe tbody tr th:only-of-type {\n",
       "        vertical-align: middle;\n",
       "    }\n",
       "\n",
       "    .dataframe tbody tr th {\n",
       "        vertical-align: top;\n",
       "    }\n",
       "\n",
       "    .dataframe thead th {\n",
       "        text-align: right;\n",
       "    }\n",
       "</style>\n",
       "<table border=\"1\" class=\"dataframe\">\n",
       "  <thead>\n",
       "    <tr style=\"text-align: right;\">\n",
       "      <th></th>\n",
       "      <th>Name</th>\n",
       "      <th>Price</th>\n",
       "      <th>Km</th>\n",
       "    </tr>\n",
       "  </thead>\n",
       "  <tbody>\n",
       "    <tr>\n",
       "      <th>0</th>\n",
       "      <td>2016 Hyundai Creta 1 6 SX Plus AT 11 75 000 Ma...</td>\n",
       "      <td>₹11,75,000</td>\n",
       "      <td>45,315 KMs|Diesel|Singasandra, Bangalore</td>\n",
       "    </tr>\n",
       "    <tr>\n",
       "      <th>1</th>\n",
       "      <td>2021 Hyundai Creta SX O 1 5 Petrol CVT 2020 20...</td>\n",
       "      <td>₹16,85,000</td>\n",
       "      <td>15,925 KMs|Petrol|Singasandra, Bangalore</td>\n",
       "    </tr>\n",
       "    <tr>\n",
       "      <th>2</th>\n",
       "      <td>2021 Hyundai Creta SX 1 5 Petrol Executive 14 ...</td>\n",
       "      <td>₹14,65,000</td>\n",
       "      <td>5,070 KMs|Petrol|Singasandra, Bangalore</td>\n",
       "    </tr>\n",
       "    <tr>\n",
       "      <th>3</th>\n",
       "      <td>2022 Mahindra XUV700 AX 7 Diesel AT AWD Luxury...</td>\n",
       "      <td>₹26,95,000</td>\n",
       "      <td>29,705 KMs|Diesel|Singasandra, Bangalore</td>\n",
       "    </tr>\n",
       "    <tr>\n",
       "      <th>4</th>\n",
       "      <td>2018 Mahindra XUV500 W7 AT 2018 2020 13 45 000...</td>\n",
       "      <td>₹13,45,000</td>\n",
       "      <td>49,131 KMs|Diesel|Singasandra, Bangalore</td>\n",
       "    </tr>\n",
       "    <tr>\n",
       "      <th>...</th>\n",
       "      <td>...</td>\n",
       "      <td>...</td>\n",
       "      <td>...</td>\n",
       "    </tr>\n",
       "    <tr>\n",
       "      <th>715</th>\n",
       "      <td>2018 Datsun redi GO A 2 51 000 Make Offer Home...</td>\n",
       "      <td>₹2,51,000</td>\n",
       "      <td>16,113 KMs|Petrol|Banaswadi, Bangalore</td>\n",
       "    </tr>\n",
       "    <tr>\n",
       "      <th>716</th>\n",
       "      <td>2014 Hyundai Xcent S 1 2 4 18 000 Make Offer H...</td>\n",
       "      <td>₹4,18,000</td>\n",
       "      <td>63,189 KMs|Petrol|Banaswadi, Bangalore</td>\n",
       "    </tr>\n",
       "    <tr>\n",
       "      <th>717</th>\n",
       "      <td>2021 Honda Amaze VX CVT 1 2 Petrol 2021 8 04 0...</td>\n",
       "      <td>₹8,04,000</td>\n",
       "      <td>21,140 KMs|Petrol|Banaswadi, Bangalore</td>\n",
       "    </tr>\n",
       "    <tr>\n",
       "      <th>718</th>\n",
       "      <td>2014 Honda City 1 5 V MT 5 69 092 Make Offer H...</td>\n",
       "      <td>₹5,69,092</td>\n",
       "      <td>73,554 KMs|Petrol|Banaswadi, Bangalore</td>\n",
       "    </tr>\n",
       "    <tr>\n",
       "      <th>719</th>\n",
       "      <td>2021 Maruti Suzuki Alto 800 Vxi Plus 3 96 546 ...</td>\n",
       "      <td>₹3,96,546</td>\n",
       "      <td>29,878 KMs|Petrol|Banaswadi, Bangalore</td>\n",
       "    </tr>\n",
       "  </tbody>\n",
       "</table>\n",
       "<p>720 rows × 3 columns</p>\n",
       "</div>"
      ],
      "text/plain": [
       "                                                  Name       Price  \\\n",
       "0    2016 Hyundai Creta 1 6 SX Plus AT 11 75 000 Ma...  ₹11,75,000   \n",
       "1    2021 Hyundai Creta SX O 1 5 Petrol CVT 2020 20...  ₹16,85,000   \n",
       "2    2021 Hyundai Creta SX 1 5 Petrol Executive 14 ...  ₹14,65,000   \n",
       "3    2022 Mahindra XUV700 AX 7 Diesel AT AWD Luxury...  ₹26,95,000   \n",
       "4    2018 Mahindra XUV500 W7 AT 2018 2020 13 45 000...  ₹13,45,000   \n",
       "..                                                 ...         ...   \n",
       "715  2018 Datsun redi GO A 2 51 000 Make Offer Home...   ₹2,51,000   \n",
       "716  2014 Hyundai Xcent S 1 2 4 18 000 Make Offer H...   ₹4,18,000   \n",
       "717  2021 Honda Amaze VX CVT 1 2 Petrol 2021 8 04 0...   ₹8,04,000   \n",
       "718  2014 Honda City 1 5 V MT 5 69 092 Make Offer H...   ₹5,69,092   \n",
       "719  2021 Maruti Suzuki Alto 800 Vxi Plus 3 96 546 ...   ₹3,96,546   \n",
       "\n",
       "                                           Km  \n",
       "0    45,315 KMs|Diesel|Singasandra, Bangalore  \n",
       "1    15,925 KMs|Petrol|Singasandra, Bangalore  \n",
       "2     5,070 KMs|Petrol|Singasandra, Bangalore  \n",
       "3    29,705 KMs|Diesel|Singasandra, Bangalore  \n",
       "4    49,131 KMs|Diesel|Singasandra, Bangalore  \n",
       "..                                        ...  \n",
       "715    16,113 KMs|Petrol|Banaswadi, Bangalore  \n",
       "716    63,189 KMs|Petrol|Banaswadi, Bangalore  \n",
       "717    21,140 KMs|Petrol|Banaswadi, Bangalore  \n",
       "718    73,554 KMs|Petrol|Banaswadi, Bangalore  \n",
       "719    29,878 KMs|Petrol|Banaswadi, Bangalore  \n",
       "\n",
       "[720 rows x 3 columns]"
      ]
     },
     "execution_count": 11,
     "metadata": {},
     "output_type": "execute_result"
    }
   ],
   "source": [
    "df"
   ]
  },
  {
   "cell_type": "code",
   "execution_count": 13,
   "id": "e00c01d2",
   "metadata": {},
   "outputs": [],
   "source": [
    "df.to_csv('benguluru_used_cars_data.csv')"
   ]
  },
  {
   "cell_type": "code",
   "execution_count": null,
   "id": "52748b2e",
   "metadata": {},
   "outputs": [],
   "source": []
  },
  {
   "cell_type": "code",
   "execution_count": 151,
   "id": "5849ee9e",
   "metadata": {},
   "outputs": [],
   "source": [
    "df = pd.read_csv('multiple_cars_new1.csv',index_col=0)"
   ]
  },
  {
   "cell_type": "code",
   "execution_count": 152,
   "id": "bb4094ee",
   "metadata": {
    "scrolled": true
   },
   "outputs": [
    {
     "data": {
      "text/html": [
       "<div>\n",
       "<style scoped>\n",
       "    .dataframe tbody tr th:only-of-type {\n",
       "        vertical-align: middle;\n",
       "    }\n",
       "\n",
       "    .dataframe tbody tr th {\n",
       "        vertical-align: top;\n",
       "    }\n",
       "\n",
       "    .dataframe thead th {\n",
       "        text-align: right;\n",
       "    }\n",
       "</style>\n",
       "<table border=\"1\" class=\"dataframe\">\n",
       "  <thead>\n",
       "    <tr style=\"text-align: right;\">\n",
       "      <th></th>\n",
       "      <th>Name</th>\n",
       "      <th>Price</th>\n",
       "      <th>Km</th>\n",
       "    </tr>\n",
       "  </thead>\n",
       "  <tbody>\n",
       "    <tr>\n",
       "      <th>0</th>\n",
       "      <td>2016 Hyundai Creta 1 6 SX Plus AT 11 75 000 Ma...</td>\n",
       "      <td>₹11,75,000</td>\n",
       "      <td>45,315 KMs|Diesel|Singasandra, Bangalore</td>\n",
       "    </tr>\n",
       "    <tr>\n",
       "      <th>1</th>\n",
       "      <td>2021 Hyundai Creta SX O 1 5 Petrol CVT 2020 20...</td>\n",
       "      <td>₹16,85,000</td>\n",
       "      <td>15,925 KMs|Petrol|Singasandra, Bangalore</td>\n",
       "    </tr>\n",
       "    <tr>\n",
       "      <th>2</th>\n",
       "      <td>2021 Hyundai Creta SX 1 5 Petrol Executive 14 ...</td>\n",
       "      <td>₹14,65,000</td>\n",
       "      <td>5,070 KMs|Petrol|Singasandra, Bangalore</td>\n",
       "    </tr>\n",
       "    <tr>\n",
       "      <th>3</th>\n",
       "      <td>2022 Mahindra XUV700 AX 7 Diesel AT AWD Luxury...</td>\n",
       "      <td>₹26,95,000</td>\n",
       "      <td>29,705 KMs|Diesel|Singasandra, Bangalore</td>\n",
       "    </tr>\n",
       "    <tr>\n",
       "      <th>4</th>\n",
       "      <td>2018 Mahindra XUV500 W7 AT 2018 2020 13 45 000...</td>\n",
       "      <td>₹13,45,000</td>\n",
       "      <td>49,131 KMs|Diesel|Singasandra, Bangalore</td>\n",
       "    </tr>\n",
       "    <tr>\n",
       "      <th>...</th>\n",
       "      <td>...</td>\n",
       "      <td>...</td>\n",
       "      <td>...</td>\n",
       "    </tr>\n",
       "    <tr>\n",
       "      <th>715</th>\n",
       "      <td>2018 Datsun redi GO A 2 51 000 Make Offer Home...</td>\n",
       "      <td>₹2,51,000</td>\n",
       "      <td>16,113 KMs|Petrol|Banaswadi, Bangalore</td>\n",
       "    </tr>\n",
       "    <tr>\n",
       "      <th>716</th>\n",
       "      <td>2014 Hyundai Xcent S 1 2 4 18 000 Make Offer H...</td>\n",
       "      <td>₹4,18,000</td>\n",
       "      <td>63,189 KMs|Petrol|Banaswadi, Bangalore</td>\n",
       "    </tr>\n",
       "    <tr>\n",
       "      <th>717</th>\n",
       "      <td>2021 Honda Amaze VX CVT 1 2 Petrol 2021 8 04 0...</td>\n",
       "      <td>₹8,04,000</td>\n",
       "      <td>21,140 KMs|Petrol|Banaswadi, Bangalore</td>\n",
       "    </tr>\n",
       "    <tr>\n",
       "      <th>718</th>\n",
       "      <td>2014 Honda City 1 5 V MT 5 69 092 Make Offer H...</td>\n",
       "      <td>₹5,69,092</td>\n",
       "      <td>73,554 KMs|Petrol|Banaswadi, Bangalore</td>\n",
       "    </tr>\n",
       "    <tr>\n",
       "      <th>719</th>\n",
       "      <td>2021 Maruti Suzuki Alto 800 Vxi Plus 3 96 546 ...</td>\n",
       "      <td>₹3,96,546</td>\n",
       "      <td>29,878 KMs|Petrol|Banaswadi, Bangalore</td>\n",
       "    </tr>\n",
       "  </tbody>\n",
       "</table>\n",
       "<p>720 rows × 3 columns</p>\n",
       "</div>"
      ],
      "text/plain": [
       "                                                  Name       Price  \\\n",
       "0    2016 Hyundai Creta 1 6 SX Plus AT 11 75 000 Ma...  ₹11,75,000   \n",
       "1    2021 Hyundai Creta SX O 1 5 Petrol CVT 2020 20...  ₹16,85,000   \n",
       "2    2021 Hyundai Creta SX 1 5 Petrol Executive 14 ...  ₹14,65,000   \n",
       "3    2022 Mahindra XUV700 AX 7 Diesel AT AWD Luxury...  ₹26,95,000   \n",
       "4    2018 Mahindra XUV500 W7 AT 2018 2020 13 45 000...  ₹13,45,000   \n",
       "..                                                 ...         ...   \n",
       "715  2018 Datsun redi GO A 2 51 000 Make Offer Home...   ₹2,51,000   \n",
       "716  2014 Hyundai Xcent S 1 2 4 18 000 Make Offer H...   ₹4,18,000   \n",
       "717  2021 Honda Amaze VX CVT 1 2 Petrol 2021 8 04 0...   ₹8,04,000   \n",
       "718  2014 Honda City 1 5 V MT 5 69 092 Make Offer H...   ₹5,69,092   \n",
       "719  2021 Maruti Suzuki Alto 800 Vxi Plus 3 96 546 ...   ₹3,96,546   \n",
       "\n",
       "                                           Km  \n",
       "0    45,315 KMs|Diesel|Singasandra, Bangalore  \n",
       "1    15,925 KMs|Petrol|Singasandra, Bangalore  \n",
       "2     5,070 KMs|Petrol|Singasandra, Bangalore  \n",
       "3    29,705 KMs|Diesel|Singasandra, Bangalore  \n",
       "4    49,131 KMs|Diesel|Singasandra, Bangalore  \n",
       "..                                        ...  \n",
       "715    16,113 KMs|Petrol|Banaswadi, Bangalore  \n",
       "716    63,189 KMs|Petrol|Banaswadi, Bangalore  \n",
       "717    21,140 KMs|Petrol|Banaswadi, Bangalore  \n",
       "718    73,554 KMs|Petrol|Banaswadi, Bangalore  \n",
       "719    29,878 KMs|Petrol|Banaswadi, Bangalore  \n",
       "\n",
       "[720 rows x 3 columns]"
      ]
     },
     "execution_count": 152,
     "metadata": {},
     "output_type": "execute_result"
    }
   ],
   "source": [
    "df"
   ]
  },
  {
   "cell_type": "markdown",
   "id": "e2054b79",
   "metadata": {},
   "source": [
    "### splitting the data "
   ]
  },
  {
   "cell_type": "code",
   "execution_count": 153,
   "id": "95ff0f30",
   "metadata": {},
   "outputs": [],
   "source": [
    "### Name column cleaning - splitting into year, brand, model\n",
    "## for year\n",
    "import re\n",
    "# Function to extract 4-digit number and the rest of the text\n",
    "\n",
    "def split_text(text):\n",
    "    match = re.match(r'(\\d{4})\\s+(.*)', text)\n",
    "    if match:\n",
    "        return match.groups()\n",
    "    return (None, text)"
   ]
  },
  {
   "cell_type": "code",
   "execution_count": 154,
   "id": "754b5c0c",
   "metadata": {},
   "outputs": [
    {
     "data": {
      "text/html": [
       "<div>\n",
       "<style scoped>\n",
       "    .dataframe tbody tr th:only-of-type {\n",
       "        vertical-align: middle;\n",
       "    }\n",
       "\n",
       "    .dataframe tbody tr th {\n",
       "        vertical-align: top;\n",
       "    }\n",
       "\n",
       "    .dataframe thead th {\n",
       "        text-align: right;\n",
       "    }\n",
       "</style>\n",
       "<table border=\"1\" class=\"dataframe\">\n",
       "  <thead>\n",
       "    <tr style=\"text-align: right;\">\n",
       "      <th></th>\n",
       "      <th>Name</th>\n",
       "      <th>Price</th>\n",
       "      <th>Km</th>\n",
       "      <th>Year_of_Manufacture</th>\n",
       "      <th>description</th>\n",
       "    </tr>\n",
       "  </thead>\n",
       "  <tbody>\n",
       "    <tr>\n",
       "      <th>0</th>\n",
       "      <td>2016 Hyundai Creta 1 6 SX Plus AT 11 75 000 Ma...</td>\n",
       "      <td>₹11,75,000</td>\n",
       "      <td>45,315 KMs|Diesel|Singasandra, Bangalore</td>\n",
       "      <td>2016</td>\n",
       "      <td>Hyundai Creta 1 6 SX Plus AT 11 75 000 Make Of...</td>\n",
       "    </tr>\n",
       "    <tr>\n",
       "      <th>1</th>\n",
       "      <td>2021 Hyundai Creta SX O 1 5 Petrol CVT 2020 20...</td>\n",
       "      <td>₹16,85,000</td>\n",
       "      <td>15,925 KMs|Petrol|Singasandra, Bangalore</td>\n",
       "      <td>2021</td>\n",
       "      <td>Hyundai Creta SX O 1 5 Petrol CVT 2020 2022 16...</td>\n",
       "    </tr>\n",
       "    <tr>\n",
       "      <th>2</th>\n",
       "      <td>2021 Hyundai Creta SX 1 5 Petrol Executive 14 ...</td>\n",
       "      <td>₹14,65,000</td>\n",
       "      <td>5,070 KMs|Petrol|Singasandra, Bangalore</td>\n",
       "      <td>2021</td>\n",
       "      <td>Hyundai Creta SX 1 5 Petrol Executive 14 65 00...</td>\n",
       "    </tr>\n",
       "    <tr>\n",
       "      <th>3</th>\n",
       "      <td>2022 Mahindra XUV700 AX 7 Diesel AT AWD Luxury...</td>\n",
       "      <td>₹26,95,000</td>\n",
       "      <td>29,705 KMs|Diesel|Singasandra, Bangalore</td>\n",
       "      <td>2022</td>\n",
       "      <td>Mahindra XUV700 AX 7 Diesel AT AWD Luxury Pack...</td>\n",
       "    </tr>\n",
       "    <tr>\n",
       "      <th>4</th>\n",
       "      <td>2018 Mahindra XUV500 W7 AT 2018 2020 13 45 000...</td>\n",
       "      <td>₹13,45,000</td>\n",
       "      <td>49,131 KMs|Diesel|Singasandra, Bangalore</td>\n",
       "      <td>2018</td>\n",
       "      <td>Mahindra XUV500 W7 AT 2018 2020 13 45 000 Make...</td>\n",
       "    </tr>\n",
       "  </tbody>\n",
       "</table>\n",
       "</div>"
      ],
      "text/plain": [
       "                                                Name       Price  \\\n",
       "0  2016 Hyundai Creta 1 6 SX Plus AT 11 75 000 Ma...  ₹11,75,000   \n",
       "1  2021 Hyundai Creta SX O 1 5 Petrol CVT 2020 20...  ₹16,85,000   \n",
       "2  2021 Hyundai Creta SX 1 5 Petrol Executive 14 ...  ₹14,65,000   \n",
       "3  2022 Mahindra XUV700 AX 7 Diesel AT AWD Luxury...  ₹26,95,000   \n",
       "4  2018 Mahindra XUV500 W7 AT 2018 2020 13 45 000...  ₹13,45,000   \n",
       "\n",
       "                                         Km Year_of_Manufacture  \\\n",
       "0  45,315 KMs|Diesel|Singasandra, Bangalore                2016   \n",
       "1  15,925 KMs|Petrol|Singasandra, Bangalore                2021   \n",
       "2   5,070 KMs|Petrol|Singasandra, Bangalore                2021   \n",
       "3  29,705 KMs|Diesel|Singasandra, Bangalore                2022   \n",
       "4  49,131 KMs|Diesel|Singasandra, Bangalore                2018   \n",
       "\n",
       "                                         description  \n",
       "0  Hyundai Creta 1 6 SX Plus AT 11 75 000 Make Of...  \n",
       "1  Hyundai Creta SX O 1 5 Petrol CVT 2020 2022 16...  \n",
       "2  Hyundai Creta SX 1 5 Petrol Executive 14 65 00...  \n",
       "3  Mahindra XUV700 AX 7 Diesel AT AWD Luxury Pack...  \n",
       "4  Mahindra XUV500 W7 AT 2018 2020 13 45 000 Make...  "
      ]
     },
     "execution_count": 154,
     "metadata": {},
     "output_type": "execute_result"
    }
   ],
   "source": [
    "# Apply the function to the DataFrame column\n",
    "df[['Year_of_Manufacture', 'description']] = df['Name'].apply(split_text).apply(pd.Series)\n",
    "df.head()"
   ]
  },
  {
   "cell_type": "code",
   "execution_count": 155,
   "id": "3f410939",
   "metadata": {},
   "outputs": [],
   "source": [
    "# List of car brands\n",
    "Brands=[]\n",
    "for i in soup.find_all('span', class_ = 'pull-left'):\n",
    "    Brands.append(i.text.strip())\n",
    "Brands.append('Mercedes Benz')\n",
    "\n",
    "brand_pattern = '|'.join(Brands)\n",
    "\n",
    "\n",
    "# Function to extract brand and rest of the string\n",
    "def extract_brand_and_rest(text):\n",
    "    match = re.match(rf'({brand_pattern})\\s+(.*)', text)\n",
    "    if match:\n",
    "        return match.groups()\n",
    "    else:\n",
    "        return (None, text)"
   ]
  },
  {
   "cell_type": "code",
   "execution_count": 156,
   "id": "ac405d69",
   "metadata": {},
   "outputs": [
    {
     "data": {
      "text/html": [
       "<div>\n",
       "<style scoped>\n",
       "    .dataframe tbody tr th:only-of-type {\n",
       "        vertical-align: middle;\n",
       "    }\n",
       "\n",
       "    .dataframe tbody tr th {\n",
       "        vertical-align: top;\n",
       "    }\n",
       "\n",
       "    .dataframe thead th {\n",
       "        text-align: right;\n",
       "    }\n",
       "</style>\n",
       "<table border=\"1\" class=\"dataframe\">\n",
       "  <thead>\n",
       "    <tr style=\"text-align: right;\">\n",
       "      <th></th>\n",
       "      <th>Name</th>\n",
       "      <th>Price</th>\n",
       "      <th>Km</th>\n",
       "      <th>Year_of_Manufacture</th>\n",
       "      <th>description</th>\n",
       "      <th>Brand</th>\n",
       "      <th>Model</th>\n",
       "    </tr>\n",
       "  </thead>\n",
       "  <tbody>\n",
       "    <tr>\n",
       "      <th>0</th>\n",
       "      <td>2016 Hyundai Creta 1 6 SX Plus AT 11 75 000 Ma...</td>\n",
       "      <td>₹11,75,000</td>\n",
       "      <td>45,315 KMs|Diesel|Singasandra, Bangalore</td>\n",
       "      <td>2016</td>\n",
       "      <td>Hyundai Creta 1 6 SX Plus AT 11 75 000 Make Of...</td>\n",
       "      <td>Hyundai</td>\n",
       "      <td>Creta 1 6 SX Plus AT 11 75 000 Make Offer 45 3...</td>\n",
       "    </tr>\n",
       "    <tr>\n",
       "      <th>1</th>\n",
       "      <td>2021 Hyundai Creta SX O 1 5 Petrol CVT 2020 20...</td>\n",
       "      <td>₹16,85,000</td>\n",
       "      <td>15,925 KMs|Petrol|Singasandra, Bangalore</td>\n",
       "      <td>2021</td>\n",
       "      <td>Hyundai Creta SX O 1 5 Petrol CVT 2020 2022 16...</td>\n",
       "      <td>Hyundai</td>\n",
       "      <td>Creta SX O 1 5 Petrol CVT 2020 2022 16 85 000 ...</td>\n",
       "    </tr>\n",
       "    <tr>\n",
       "      <th>2</th>\n",
       "      <td>2021 Hyundai Creta SX 1 5 Petrol Executive 14 ...</td>\n",
       "      <td>₹14,65,000</td>\n",
       "      <td>5,070 KMs|Petrol|Singasandra, Bangalore</td>\n",
       "      <td>2021</td>\n",
       "      <td>Hyundai Creta SX 1 5 Petrol Executive 14 65 00...</td>\n",
       "      <td>Hyundai</td>\n",
       "      <td>Creta SX 1 5 Petrol Executive 14 65 000 Make O...</td>\n",
       "    </tr>\n",
       "    <tr>\n",
       "      <th>3</th>\n",
       "      <td>2022 Mahindra XUV700 AX 7 Diesel AT AWD Luxury...</td>\n",
       "      <td>₹26,95,000</td>\n",
       "      <td>29,705 KMs|Diesel|Singasandra, Bangalore</td>\n",
       "      <td>2022</td>\n",
       "      <td>Mahindra XUV700 AX 7 Diesel AT AWD Luxury Pack...</td>\n",
       "      <td>Mahindra</td>\n",
       "      <td>XUV700 AX 7 Diesel AT AWD Luxury Pack 7 STR 20...</td>\n",
       "    </tr>\n",
       "    <tr>\n",
       "      <th>4</th>\n",
       "      <td>2018 Mahindra XUV500 W7 AT 2018 2020 13 45 000...</td>\n",
       "      <td>₹13,45,000</td>\n",
       "      <td>49,131 KMs|Diesel|Singasandra, Bangalore</td>\n",
       "      <td>2018</td>\n",
       "      <td>Mahindra XUV500 W7 AT 2018 2020 13 45 000 Make...</td>\n",
       "      <td>Mahindra</td>\n",
       "      <td>XUV500 W7 AT 2018 2020 13 45 000 Make Offer 49...</td>\n",
       "    </tr>\n",
       "  </tbody>\n",
       "</table>\n",
       "</div>"
      ],
      "text/plain": [
       "                                                Name       Price  \\\n",
       "0  2016 Hyundai Creta 1 6 SX Plus AT 11 75 000 Ma...  ₹11,75,000   \n",
       "1  2021 Hyundai Creta SX O 1 5 Petrol CVT 2020 20...  ₹16,85,000   \n",
       "2  2021 Hyundai Creta SX 1 5 Petrol Executive 14 ...  ₹14,65,000   \n",
       "3  2022 Mahindra XUV700 AX 7 Diesel AT AWD Luxury...  ₹26,95,000   \n",
       "4  2018 Mahindra XUV500 W7 AT 2018 2020 13 45 000...  ₹13,45,000   \n",
       "\n",
       "                                         Km Year_of_Manufacture  \\\n",
       "0  45,315 KMs|Diesel|Singasandra, Bangalore                2016   \n",
       "1  15,925 KMs|Petrol|Singasandra, Bangalore                2021   \n",
       "2   5,070 KMs|Petrol|Singasandra, Bangalore                2021   \n",
       "3  29,705 KMs|Diesel|Singasandra, Bangalore                2022   \n",
       "4  49,131 KMs|Diesel|Singasandra, Bangalore                2018   \n",
       "\n",
       "                                         description     Brand  \\\n",
       "0  Hyundai Creta 1 6 SX Plus AT 11 75 000 Make Of...   Hyundai   \n",
       "1  Hyundai Creta SX O 1 5 Petrol CVT 2020 2022 16...   Hyundai   \n",
       "2  Hyundai Creta SX 1 5 Petrol Executive 14 65 00...   Hyundai   \n",
       "3  Mahindra XUV700 AX 7 Diesel AT AWD Luxury Pack...  Mahindra   \n",
       "4  Mahindra XUV500 W7 AT 2018 2020 13 45 000 Make...  Mahindra   \n",
       "\n",
       "                                               Model  \n",
       "0  Creta 1 6 SX Plus AT 11 75 000 Make Offer 45 3...  \n",
       "1  Creta SX O 1 5 Petrol CVT 2020 2022 16 85 000 ...  \n",
       "2  Creta SX 1 5 Petrol Executive 14 65 000 Make O...  \n",
       "3  XUV700 AX 7 Diesel AT AWD Luxury Pack 7 STR 20...  \n",
       "4  XUV500 W7 AT 2018 2020 13 45 000 Make Offer 49...  "
      ]
     },
     "execution_count": 156,
     "metadata": {},
     "output_type": "execute_result"
    }
   ],
   "source": [
    "# Apply the function to the DataFrame\n",
    "df[['Brand', 'Model']] = df['description'].apply(extract_brand_and_rest).apply(pd.Series)\n",
    "\n",
    "# Display the updated DataFrame\n",
    "df.head()"
   ]
  },
  {
   "cell_type": "code",
   "execution_count": 157,
   "id": "7d1ad3d3",
   "metadata": {},
   "outputs": [],
   "source": [
    "df.drop('Name', axis=1, inplace=True)\n",
    "df.drop('description',axis=1,inplace=True)"
   ]
  },
  {
   "cell_type": "code",
   "execution_count": 158,
   "id": "be6f71bf",
   "metadata": {},
   "outputs": [
    {
     "data": {
      "text/html": [
       "<div>\n",
       "<style scoped>\n",
       "    .dataframe tbody tr th:only-of-type {\n",
       "        vertical-align: middle;\n",
       "    }\n",
       "\n",
       "    .dataframe tbody tr th {\n",
       "        vertical-align: top;\n",
       "    }\n",
       "\n",
       "    .dataframe thead th {\n",
       "        text-align: right;\n",
       "    }\n",
       "</style>\n",
       "<table border=\"1\" class=\"dataframe\">\n",
       "  <thead>\n",
       "    <tr style=\"text-align: right;\">\n",
       "      <th></th>\n",
       "      <th>Price</th>\n",
       "      <th>Km</th>\n",
       "      <th>Year_of_Manufacture</th>\n",
       "      <th>Brand</th>\n",
       "      <th>Model</th>\n",
       "    </tr>\n",
       "  </thead>\n",
       "  <tbody>\n",
       "    <tr>\n",
       "      <th>0</th>\n",
       "      <td>₹11,75,000</td>\n",
       "      <td>45,315 KMs|Diesel|Singasandra, Bangalore</td>\n",
       "      <td>2016</td>\n",
       "      <td>Hyundai</td>\n",
       "      <td>Creta 1 6 SX Plus AT 11 75 000 Make Offer 45 3...</td>\n",
       "    </tr>\n",
       "    <tr>\n",
       "      <th>1</th>\n",
       "      <td>₹16,85,000</td>\n",
       "      <td>15,925 KMs|Petrol|Singasandra, Bangalore</td>\n",
       "      <td>2021</td>\n",
       "      <td>Hyundai</td>\n",
       "      <td>Creta SX O 1 5 Petrol CVT 2020 2022 16 85 000 ...</td>\n",
       "    </tr>\n",
       "    <tr>\n",
       "      <th>2</th>\n",
       "      <td>₹14,65,000</td>\n",
       "      <td>5,070 KMs|Petrol|Singasandra, Bangalore</td>\n",
       "      <td>2021</td>\n",
       "      <td>Hyundai</td>\n",
       "      <td>Creta SX 1 5 Petrol Executive 14 65 000 Make O...</td>\n",
       "    </tr>\n",
       "    <tr>\n",
       "      <th>3</th>\n",
       "      <td>₹26,95,000</td>\n",
       "      <td>29,705 KMs|Diesel|Singasandra, Bangalore</td>\n",
       "      <td>2022</td>\n",
       "      <td>Mahindra</td>\n",
       "      <td>XUV700 AX 7 Diesel AT AWD Luxury Pack 7 STR 20...</td>\n",
       "    </tr>\n",
       "    <tr>\n",
       "      <th>4</th>\n",
       "      <td>₹13,45,000</td>\n",
       "      <td>49,131 KMs|Diesel|Singasandra, Bangalore</td>\n",
       "      <td>2018</td>\n",
       "      <td>Mahindra</td>\n",
       "      <td>XUV500 W7 AT 2018 2020 13 45 000 Make Offer 49...</td>\n",
       "    </tr>\n",
       "  </tbody>\n",
       "</table>\n",
       "</div>"
      ],
      "text/plain": [
       "        Price                                        Km Year_of_Manufacture  \\\n",
       "0  ₹11,75,000  45,315 KMs|Diesel|Singasandra, Bangalore                2016   \n",
       "1  ₹16,85,000  15,925 KMs|Petrol|Singasandra, Bangalore                2021   \n",
       "2  ₹14,65,000   5,070 KMs|Petrol|Singasandra, Bangalore                2021   \n",
       "3  ₹26,95,000  29,705 KMs|Diesel|Singasandra, Bangalore                2022   \n",
       "4  ₹13,45,000  49,131 KMs|Diesel|Singasandra, Bangalore                2018   \n",
       "\n",
       "      Brand                                              Model  \n",
       "0   Hyundai  Creta 1 6 SX Plus AT 11 75 000 Make Offer 45 3...  \n",
       "1   Hyundai  Creta SX O 1 5 Petrol CVT 2020 2022 16 85 000 ...  \n",
       "2   Hyundai  Creta SX 1 5 Petrol Executive 14 65 000 Make O...  \n",
       "3  Mahindra  XUV700 AX 7 Diesel AT AWD Luxury Pack 7 STR 20...  \n",
       "4  Mahindra  XUV500 W7 AT 2018 2020 13 45 000 Make Offer 49...  "
      ]
     },
     "execution_count": 158,
     "metadata": {},
     "output_type": "execute_result"
    }
   ],
   "source": [
    "df.head()"
   ]
  },
  {
   "cell_type": "code",
   "execution_count": 159,
   "id": "a89090da",
   "metadata": {},
   "outputs": [
    {
     "data": {
      "text/html": [
       "<div>\n",
       "<style scoped>\n",
       "    .dataframe tbody tr th:only-of-type {\n",
       "        vertical-align: middle;\n",
       "    }\n",
       "\n",
       "    .dataframe tbody tr th {\n",
       "        vertical-align: top;\n",
       "    }\n",
       "\n",
       "    .dataframe thead th {\n",
       "        text-align: right;\n",
       "    }\n",
       "</style>\n",
       "<table border=\"1\" class=\"dataframe\">\n",
       "  <thead>\n",
       "    <tr style=\"text-align: right;\">\n",
       "      <th></th>\n",
       "      <th>Price</th>\n",
       "      <th>Year_of_Manufacture</th>\n",
       "      <th>Brand</th>\n",
       "      <th>Model</th>\n",
       "      <th>kms_driven</th>\n",
       "      <th>Fuel_Type</th>\n",
       "      <th>Location</th>\n",
       "    </tr>\n",
       "  </thead>\n",
       "  <tbody>\n",
       "    <tr>\n",
       "      <th>0</th>\n",
       "      <td>₹11,75,000</td>\n",
       "      <td>2016</td>\n",
       "      <td>Hyundai</td>\n",
       "      <td>Creta 1 6 SX Plus AT 11 75 000 Make Offer 45 3...</td>\n",
       "      <td>45,315 KMs</td>\n",
       "      <td>Diesel</td>\n",
       "      <td>Singasandra, Bangalore</td>\n",
       "    </tr>\n",
       "    <tr>\n",
       "      <th>1</th>\n",
       "      <td>₹16,85,000</td>\n",
       "      <td>2021</td>\n",
       "      <td>Hyundai</td>\n",
       "      <td>Creta SX O 1 5 Petrol CVT 2020 2022 16 85 000 ...</td>\n",
       "      <td>15,925 KMs</td>\n",
       "      <td>Petrol</td>\n",
       "      <td>Singasandra, Bangalore</td>\n",
       "    </tr>\n",
       "    <tr>\n",
       "      <th>2</th>\n",
       "      <td>₹14,65,000</td>\n",
       "      <td>2021</td>\n",
       "      <td>Hyundai</td>\n",
       "      <td>Creta SX 1 5 Petrol Executive 14 65 000 Make O...</td>\n",
       "      <td>5,070 KMs</td>\n",
       "      <td>Petrol</td>\n",
       "      <td>Singasandra, Bangalore</td>\n",
       "    </tr>\n",
       "    <tr>\n",
       "      <th>3</th>\n",
       "      <td>₹26,95,000</td>\n",
       "      <td>2022</td>\n",
       "      <td>Mahindra</td>\n",
       "      <td>XUV700 AX 7 Diesel AT AWD Luxury Pack 7 STR 20...</td>\n",
       "      <td>29,705 KMs</td>\n",
       "      <td>Diesel</td>\n",
       "      <td>Singasandra, Bangalore</td>\n",
       "    </tr>\n",
       "    <tr>\n",
       "      <th>4</th>\n",
       "      <td>₹13,45,000</td>\n",
       "      <td>2018</td>\n",
       "      <td>Mahindra</td>\n",
       "      <td>XUV500 W7 AT 2018 2020 13 45 000 Make Offer 49...</td>\n",
       "      <td>49,131 KMs</td>\n",
       "      <td>Diesel</td>\n",
       "      <td>Singasandra, Bangalore</td>\n",
       "    </tr>\n",
       "  </tbody>\n",
       "</table>\n",
       "</div>"
      ],
      "text/plain": [
       "        Price Year_of_Manufacture     Brand  \\\n",
       "0  ₹11,75,000                2016   Hyundai   \n",
       "1  ₹16,85,000                2021   Hyundai   \n",
       "2  ₹14,65,000                2021   Hyundai   \n",
       "3  ₹26,95,000                2022  Mahindra   \n",
       "4  ₹13,45,000                2018  Mahindra   \n",
       "\n",
       "                                               Model  kms_driven Fuel_Type  \\\n",
       "0  Creta 1 6 SX Plus AT 11 75 000 Make Offer 45 3...  45,315 KMs    Diesel   \n",
       "1  Creta SX O 1 5 Petrol CVT 2020 2022 16 85 000 ...  15,925 KMs    Petrol   \n",
       "2  Creta SX 1 5 Petrol Executive 14 65 000 Make O...   5,070 KMs    Petrol   \n",
       "3  XUV700 AX 7 Diesel AT AWD Luxury Pack 7 STR 20...  29,705 KMs    Diesel   \n",
       "4  XUV500 W7 AT 2018 2020 13 45 000 Make Offer 49...  49,131 KMs    Diesel   \n",
       "\n",
       "                 Location  \n",
       "0  Singasandra, Bangalore  \n",
       "1  Singasandra, Bangalore  \n",
       "2  Singasandra, Bangalore  \n",
       "3  Singasandra, Bangalore  \n",
       "4  Singasandra, Bangalore  "
      ]
     },
     "execution_count": 159,
     "metadata": {},
     "output_type": "execute_result"
    }
   ],
   "source": [
    "df[['kms_driven', 'Fuel_Type', 'Location']] = df['Km'].str.split('|', expand=True)\n",
    "df.drop('Km',axis=1,inplace=True)\n",
    "df.head()"
   ]
  },
  {
   "cell_type": "code",
   "execution_count": 160,
   "id": "1bec62e6",
   "metadata": {},
   "outputs": [
    {
     "data": {
      "text/html": [
       "<div>\n",
       "<style scoped>\n",
       "    .dataframe tbody tr th:only-of-type {\n",
       "        vertical-align: middle;\n",
       "    }\n",
       "\n",
       "    .dataframe tbody tr th {\n",
       "        vertical-align: top;\n",
       "    }\n",
       "\n",
       "    .dataframe thead th {\n",
       "        text-align: right;\n",
       "    }\n",
       "</style>\n",
       "<table border=\"1\" class=\"dataframe\">\n",
       "  <thead>\n",
       "    <tr style=\"text-align: right;\">\n",
       "      <th></th>\n",
       "      <th>Price</th>\n",
       "      <th>Year_of_Manufacture</th>\n",
       "      <th>Brand</th>\n",
       "      <th>Model</th>\n",
       "      <th>kms_driven</th>\n",
       "      <th>Fuel_Type</th>\n",
       "      <th>Location</th>\n",
       "      <th>useless</th>\n",
       "    </tr>\n",
       "  </thead>\n",
       "  <tbody>\n",
       "    <tr>\n",
       "      <th>0</th>\n",
       "      <td>₹11,75,000</td>\n",
       "      <td>2016</td>\n",
       "      <td>Hyundai</td>\n",
       "      <td>Creta 1 6 SX Plus AT 11 75 000 Make Offer 45 3...</td>\n",
       "      <td>45,315 KMs</td>\n",
       "      <td>Diesel</td>\n",
       "      <td>Singasandra</td>\n",
       "      <td>Bangalore</td>\n",
       "    </tr>\n",
       "    <tr>\n",
       "      <th>1</th>\n",
       "      <td>₹16,85,000</td>\n",
       "      <td>2021</td>\n",
       "      <td>Hyundai</td>\n",
       "      <td>Creta SX O 1 5 Petrol CVT 2020 2022 16 85 000 ...</td>\n",
       "      <td>15,925 KMs</td>\n",
       "      <td>Petrol</td>\n",
       "      <td>Singasandra</td>\n",
       "      <td>Bangalore</td>\n",
       "    </tr>\n",
       "    <tr>\n",
       "      <th>2</th>\n",
       "      <td>₹14,65,000</td>\n",
       "      <td>2021</td>\n",
       "      <td>Hyundai</td>\n",
       "      <td>Creta SX 1 5 Petrol Executive 14 65 000 Make O...</td>\n",
       "      <td>5,070 KMs</td>\n",
       "      <td>Petrol</td>\n",
       "      <td>Singasandra</td>\n",
       "      <td>Bangalore</td>\n",
       "    </tr>\n",
       "    <tr>\n",
       "      <th>3</th>\n",
       "      <td>₹26,95,000</td>\n",
       "      <td>2022</td>\n",
       "      <td>Mahindra</td>\n",
       "      <td>XUV700 AX 7 Diesel AT AWD Luxury Pack 7 STR 20...</td>\n",
       "      <td>29,705 KMs</td>\n",
       "      <td>Diesel</td>\n",
       "      <td>Singasandra</td>\n",
       "      <td>Bangalore</td>\n",
       "    </tr>\n",
       "    <tr>\n",
       "      <th>4</th>\n",
       "      <td>₹13,45,000</td>\n",
       "      <td>2018</td>\n",
       "      <td>Mahindra</td>\n",
       "      <td>XUV500 W7 AT 2018 2020 13 45 000 Make Offer 49...</td>\n",
       "      <td>49,131 KMs</td>\n",
       "      <td>Diesel</td>\n",
       "      <td>Singasandra</td>\n",
       "      <td>Bangalore</td>\n",
       "    </tr>\n",
       "  </tbody>\n",
       "</table>\n",
       "</div>"
      ],
      "text/plain": [
       "        Price Year_of_Manufacture     Brand  \\\n",
       "0  ₹11,75,000                2016   Hyundai   \n",
       "1  ₹16,85,000                2021   Hyundai   \n",
       "2  ₹14,65,000                2021   Hyundai   \n",
       "3  ₹26,95,000                2022  Mahindra   \n",
       "4  ₹13,45,000                2018  Mahindra   \n",
       "\n",
       "                                               Model  kms_driven Fuel_Type  \\\n",
       "0  Creta 1 6 SX Plus AT 11 75 000 Make Offer 45 3...  45,315 KMs    Diesel   \n",
       "1  Creta SX O 1 5 Petrol CVT 2020 2022 16 85 000 ...  15,925 KMs    Petrol   \n",
       "2  Creta SX 1 5 Petrol Executive 14 65 000 Make O...   5,070 KMs    Petrol   \n",
       "3  XUV700 AX 7 Diesel AT AWD Luxury Pack 7 STR 20...  29,705 KMs    Diesel   \n",
       "4  XUV500 W7 AT 2018 2020 13 45 000 Make Offer 49...  49,131 KMs    Diesel   \n",
       "\n",
       "      Location    useless  \n",
       "0  Singasandra  Bangalore  \n",
       "1  Singasandra  Bangalore  \n",
       "2  Singasandra  Bangalore  \n",
       "3  Singasandra  Bangalore  \n",
       "4  Singasandra  Bangalore  "
      ]
     },
     "execution_count": 160,
     "metadata": {},
     "output_type": "execute_result"
    }
   ],
   "source": [
    "df[['Location','useless']] = df['Location'].str.split(', ', expand=True)\n",
    "df.head()"
   ]
  },
  {
   "cell_type": "code",
   "execution_count": 161,
   "id": "a0dbb410",
   "metadata": {},
   "outputs": [],
   "source": [
    "df.drop('useless',axis=1,inplace=True)"
   ]
  },
  {
   "cell_type": "code",
   "execution_count": 162,
   "id": "9dfb4111",
   "metadata": {},
   "outputs": [
    {
     "data": {
      "text/html": [
       "<div>\n",
       "<style scoped>\n",
       "    .dataframe tbody tr th:only-of-type {\n",
       "        vertical-align: middle;\n",
       "    }\n",
       "\n",
       "    .dataframe tbody tr th {\n",
       "        vertical-align: top;\n",
       "    }\n",
       "\n",
       "    .dataframe thead th {\n",
       "        text-align: right;\n",
       "    }\n",
       "</style>\n",
       "<table border=\"1\" class=\"dataframe\">\n",
       "  <thead>\n",
       "    <tr style=\"text-align: right;\">\n",
       "      <th></th>\n",
       "      <th>Price</th>\n",
       "      <th>Year_of_Manufacture</th>\n",
       "      <th>Brand</th>\n",
       "      <th>Model</th>\n",
       "      <th>kms_driven</th>\n",
       "      <th>Fuel_Type</th>\n",
       "      <th>Location</th>\n",
       "    </tr>\n",
       "  </thead>\n",
       "  <tbody>\n",
       "    <tr>\n",
       "      <th>0</th>\n",
       "      <td>₹11,75,000</td>\n",
       "      <td>2016</td>\n",
       "      <td>Hyundai</td>\n",
       "      <td>Creta 1 6 SX Plus AT 11 75 000 Make Offer 45 3...</td>\n",
       "      <td>45,315 KMs</td>\n",
       "      <td>Diesel</td>\n",
       "      <td>Singasandra</td>\n",
       "    </tr>\n",
       "    <tr>\n",
       "      <th>1</th>\n",
       "      <td>₹16,85,000</td>\n",
       "      <td>2021</td>\n",
       "      <td>Hyundai</td>\n",
       "      <td>Creta SX O 1 5 Petrol CVT 2020 2022 16 85 000 ...</td>\n",
       "      <td>15,925 KMs</td>\n",
       "      <td>Petrol</td>\n",
       "      <td>Singasandra</td>\n",
       "    </tr>\n",
       "    <tr>\n",
       "      <th>2</th>\n",
       "      <td>₹14,65,000</td>\n",
       "      <td>2021</td>\n",
       "      <td>Hyundai</td>\n",
       "      <td>Creta SX 1 5 Petrol Executive 14 65 000 Make O...</td>\n",
       "      <td>5,070 KMs</td>\n",
       "      <td>Petrol</td>\n",
       "      <td>Singasandra</td>\n",
       "    </tr>\n",
       "    <tr>\n",
       "      <th>3</th>\n",
       "      <td>₹26,95,000</td>\n",
       "      <td>2022</td>\n",
       "      <td>Mahindra</td>\n",
       "      <td>XUV700 AX 7 Diesel AT AWD Luxury Pack 7 STR 20...</td>\n",
       "      <td>29,705 KMs</td>\n",
       "      <td>Diesel</td>\n",
       "      <td>Singasandra</td>\n",
       "    </tr>\n",
       "    <tr>\n",
       "      <th>4</th>\n",
       "      <td>₹13,45,000</td>\n",
       "      <td>2018</td>\n",
       "      <td>Mahindra</td>\n",
       "      <td>XUV500 W7 AT 2018 2020 13 45 000 Make Offer 49...</td>\n",
       "      <td>49,131 KMs</td>\n",
       "      <td>Diesel</td>\n",
       "      <td>Singasandra</td>\n",
       "    </tr>\n",
       "  </tbody>\n",
       "</table>\n",
       "</div>"
      ],
      "text/plain": [
       "        Price Year_of_Manufacture     Brand  \\\n",
       "0  ₹11,75,000                2016   Hyundai   \n",
       "1  ₹16,85,000                2021   Hyundai   \n",
       "2  ₹14,65,000                2021   Hyundai   \n",
       "3  ₹26,95,000                2022  Mahindra   \n",
       "4  ₹13,45,000                2018  Mahindra   \n",
       "\n",
       "                                               Model  kms_driven Fuel_Type  \\\n",
       "0  Creta 1 6 SX Plus AT 11 75 000 Make Offer 45 3...  45,315 KMs    Diesel   \n",
       "1  Creta SX O 1 5 Petrol CVT 2020 2022 16 85 000 ...  15,925 KMs    Petrol   \n",
       "2  Creta SX 1 5 Petrol Executive 14 65 000 Make O...   5,070 KMs    Petrol   \n",
       "3  XUV700 AX 7 Diesel AT AWD Luxury Pack 7 STR 20...  29,705 KMs    Diesel   \n",
       "4  XUV500 W7 AT 2018 2020 13 45 000 Make Offer 49...  49,131 KMs    Diesel   \n",
       "\n",
       "      Location  \n",
       "0  Singasandra  \n",
       "1  Singasandra  \n",
       "2  Singasandra  \n",
       "3  Singasandra  \n",
       "4  Singasandra  "
      ]
     },
     "execution_count": 162,
     "metadata": {},
     "output_type": "execute_result"
    }
   ],
   "source": [
    "df.head()"
   ]
  },
  {
   "cell_type": "code",
   "execution_count": 163,
   "id": "ef259b40",
   "metadata": {},
   "outputs": [],
   "source": [
    "# price in numeric\n",
    "df['Price_in_Rupees'] = df['Price'].replace({'₹': '', ',': ''}, regex=True).astype(float)"
   ]
  },
  {
   "cell_type": "code",
   "execution_count": 164,
   "id": "b1208d6b",
   "metadata": {},
   "outputs": [],
   "source": [
    "# kms in numeric\n",
    "# Function to clean and convert the data\n",
    "def convert_to_number(value):\n",
    "    # Remove non-numeric characters\n",
    "    cleaned_value = ''.join(char for char in value if char.isdigit() or char == '.')\n",
    "    \n",
    "    # Convert to integer or float\n",
    "    return int(cleaned_value) if cleaned_value.isdigit() else float(cleaned_value)\n",
    "\n",
    "# Apply the function to the DataFrame\n",
    "df['KMs_driven'] = df['kms_driven'].apply(convert_to_number)"
   ]
  },
  {
   "cell_type": "code",
   "execution_count": 165,
   "id": "4111a879",
   "metadata": {},
   "outputs": [
    {
     "data": {
      "text/html": [
       "<div>\n",
       "<style scoped>\n",
       "    .dataframe tbody tr th:only-of-type {\n",
       "        vertical-align: middle;\n",
       "    }\n",
       "\n",
       "    .dataframe tbody tr th {\n",
       "        vertical-align: top;\n",
       "    }\n",
       "\n",
       "    .dataframe thead th {\n",
       "        text-align: right;\n",
       "    }\n",
       "</style>\n",
       "<table border=\"1\" class=\"dataframe\">\n",
       "  <thead>\n",
       "    <tr style=\"text-align: right;\">\n",
       "      <th></th>\n",
       "      <th>Price</th>\n",
       "      <th>Year_of_Manufacture</th>\n",
       "      <th>Brand</th>\n",
       "      <th>Model</th>\n",
       "      <th>kms_driven</th>\n",
       "      <th>Fuel_Type</th>\n",
       "      <th>Location</th>\n",
       "      <th>Price_in_Rupees</th>\n",
       "      <th>KMs_driven</th>\n",
       "    </tr>\n",
       "  </thead>\n",
       "  <tbody>\n",
       "    <tr>\n",
       "      <th>0</th>\n",
       "      <td>₹11,75,000</td>\n",
       "      <td>2016</td>\n",
       "      <td>Hyundai</td>\n",
       "      <td>Creta 1 6 SX Plus AT 11 75 000 Make Offer 45 3...</td>\n",
       "      <td>45,315 KMs</td>\n",
       "      <td>Diesel</td>\n",
       "      <td>Singasandra</td>\n",
       "      <td>1175000.0</td>\n",
       "      <td>45315</td>\n",
       "    </tr>\n",
       "    <tr>\n",
       "      <th>1</th>\n",
       "      <td>₹16,85,000</td>\n",
       "      <td>2021</td>\n",
       "      <td>Hyundai</td>\n",
       "      <td>Creta SX O 1 5 Petrol CVT 2020 2022 16 85 000 ...</td>\n",
       "      <td>15,925 KMs</td>\n",
       "      <td>Petrol</td>\n",
       "      <td>Singasandra</td>\n",
       "      <td>1685000.0</td>\n",
       "      <td>15925</td>\n",
       "    </tr>\n",
       "    <tr>\n",
       "      <th>2</th>\n",
       "      <td>₹14,65,000</td>\n",
       "      <td>2021</td>\n",
       "      <td>Hyundai</td>\n",
       "      <td>Creta SX 1 5 Petrol Executive 14 65 000 Make O...</td>\n",
       "      <td>5,070 KMs</td>\n",
       "      <td>Petrol</td>\n",
       "      <td>Singasandra</td>\n",
       "      <td>1465000.0</td>\n",
       "      <td>5070</td>\n",
       "    </tr>\n",
       "    <tr>\n",
       "      <th>3</th>\n",
       "      <td>₹26,95,000</td>\n",
       "      <td>2022</td>\n",
       "      <td>Mahindra</td>\n",
       "      <td>XUV700 AX 7 Diesel AT AWD Luxury Pack 7 STR 20...</td>\n",
       "      <td>29,705 KMs</td>\n",
       "      <td>Diesel</td>\n",
       "      <td>Singasandra</td>\n",
       "      <td>2695000.0</td>\n",
       "      <td>29705</td>\n",
       "    </tr>\n",
       "    <tr>\n",
       "      <th>4</th>\n",
       "      <td>₹13,45,000</td>\n",
       "      <td>2018</td>\n",
       "      <td>Mahindra</td>\n",
       "      <td>XUV500 W7 AT 2018 2020 13 45 000 Make Offer 49...</td>\n",
       "      <td>49,131 KMs</td>\n",
       "      <td>Diesel</td>\n",
       "      <td>Singasandra</td>\n",
       "      <td>1345000.0</td>\n",
       "      <td>49131</td>\n",
       "    </tr>\n",
       "    <tr>\n",
       "      <th>...</th>\n",
       "      <td>...</td>\n",
       "      <td>...</td>\n",
       "      <td>...</td>\n",
       "      <td>...</td>\n",
       "      <td>...</td>\n",
       "      <td>...</td>\n",
       "      <td>...</td>\n",
       "      <td>...</td>\n",
       "      <td>...</td>\n",
       "    </tr>\n",
       "    <tr>\n",
       "      <th>715</th>\n",
       "      <td>₹2,51,000</td>\n",
       "      <td>2018</td>\n",
       "      <td>Datsun</td>\n",
       "      <td>redi GO A 2 51 000 Make Offer Home Test Drive ...</td>\n",
       "      <td>16,113 KMs</td>\n",
       "      <td>Petrol</td>\n",
       "      <td>Banaswadi</td>\n",
       "      <td>251000.0</td>\n",
       "      <td>16113</td>\n",
       "    </tr>\n",
       "    <tr>\n",
       "      <th>716</th>\n",
       "      <td>₹4,18,000</td>\n",
       "      <td>2014</td>\n",
       "      <td>Hyundai</td>\n",
       "      <td>Xcent S 1 2 4 18 000 Make Offer Home Test Driv...</td>\n",
       "      <td>63,189 KMs</td>\n",
       "      <td>Petrol</td>\n",
       "      <td>Banaswadi</td>\n",
       "      <td>418000.0</td>\n",
       "      <td>63189</td>\n",
       "    </tr>\n",
       "    <tr>\n",
       "      <th>717</th>\n",
       "      <td>₹8,04,000</td>\n",
       "      <td>2021</td>\n",
       "      <td>Honda</td>\n",
       "      <td>Amaze VX CVT 1 2 Petrol 2021 8 04 000 Make Off...</td>\n",
       "      <td>21,140 KMs</td>\n",
       "      <td>Petrol</td>\n",
       "      <td>Banaswadi</td>\n",
       "      <td>804000.0</td>\n",
       "      <td>21140</td>\n",
       "    </tr>\n",
       "    <tr>\n",
       "      <th>718</th>\n",
       "      <td>₹5,69,092</td>\n",
       "      <td>2014</td>\n",
       "      <td>Honda</td>\n",
       "      <td>City 1 5 V MT 5 69 092 Make Offer Home Test Dr...</td>\n",
       "      <td>73,554 KMs</td>\n",
       "      <td>Petrol</td>\n",
       "      <td>Banaswadi</td>\n",
       "      <td>569092.0</td>\n",
       "      <td>73554</td>\n",
       "    </tr>\n",
       "    <tr>\n",
       "      <th>719</th>\n",
       "      <td>₹3,96,546</td>\n",
       "      <td>2021</td>\n",
       "      <td>Maruti Suzuki</td>\n",
       "      <td>Alto 800 Vxi Plus 3 96 546 Make Offer Home Tes...</td>\n",
       "      <td>29,878 KMs</td>\n",
       "      <td>Petrol</td>\n",
       "      <td>Banaswadi</td>\n",
       "      <td>396546.0</td>\n",
       "      <td>29878</td>\n",
       "    </tr>\n",
       "  </tbody>\n",
       "</table>\n",
       "<p>720 rows × 9 columns</p>\n",
       "</div>"
      ],
      "text/plain": [
       "          Price Year_of_Manufacture          Brand  \\\n",
       "0    ₹11,75,000                2016        Hyundai   \n",
       "1    ₹16,85,000                2021        Hyundai   \n",
       "2    ₹14,65,000                2021        Hyundai   \n",
       "3    ₹26,95,000                2022       Mahindra   \n",
       "4    ₹13,45,000                2018       Mahindra   \n",
       "..          ...                 ...            ...   \n",
       "715   ₹2,51,000                2018         Datsun   \n",
       "716   ₹4,18,000                2014        Hyundai   \n",
       "717   ₹8,04,000                2021          Honda   \n",
       "718   ₹5,69,092                2014          Honda   \n",
       "719   ₹3,96,546                2021  Maruti Suzuki   \n",
       "\n",
       "                                                 Model  kms_driven Fuel_Type  \\\n",
       "0    Creta 1 6 SX Plus AT 11 75 000 Make Offer 45 3...  45,315 KMs    Diesel   \n",
       "1    Creta SX O 1 5 Petrol CVT 2020 2022 16 85 000 ...  15,925 KMs    Petrol   \n",
       "2    Creta SX 1 5 Petrol Executive 14 65 000 Make O...   5,070 KMs    Petrol   \n",
       "3    XUV700 AX 7 Diesel AT AWD Luxury Pack 7 STR 20...  29,705 KMs    Diesel   \n",
       "4    XUV500 W7 AT 2018 2020 13 45 000 Make Offer 49...  49,131 KMs    Diesel   \n",
       "..                                                 ...         ...       ...   \n",
       "715  redi GO A 2 51 000 Make Offer Home Test Drive ...  16,113 KMs    Petrol   \n",
       "716  Xcent S 1 2 4 18 000 Make Offer Home Test Driv...  63,189 KMs    Petrol   \n",
       "717  Amaze VX CVT 1 2 Petrol 2021 8 04 000 Make Off...  21,140 KMs    Petrol   \n",
       "718  City 1 5 V MT 5 69 092 Make Offer Home Test Dr...  73,554 KMs    Petrol   \n",
       "719  Alto 800 Vxi Plus 3 96 546 Make Offer Home Tes...  29,878 KMs    Petrol   \n",
       "\n",
       "        Location  Price_in_Rupees  KMs_driven  \n",
       "0    Singasandra        1175000.0       45315  \n",
       "1    Singasandra        1685000.0       15925  \n",
       "2    Singasandra        1465000.0        5070  \n",
       "3    Singasandra        2695000.0       29705  \n",
       "4    Singasandra        1345000.0       49131  \n",
       "..           ...              ...         ...  \n",
       "715    Banaswadi         251000.0       16113  \n",
       "716    Banaswadi         418000.0       63189  \n",
       "717    Banaswadi         804000.0       21140  \n",
       "718    Banaswadi         569092.0       73554  \n",
       "719    Banaswadi         396546.0       29878  \n",
       "\n",
       "[720 rows x 9 columns]"
      ]
     },
     "execution_count": 165,
     "metadata": {},
     "output_type": "execute_result"
    }
   ],
   "source": [
    "df"
   ]
  },
  {
   "cell_type": "code",
   "execution_count": 166,
   "id": "e90084f1",
   "metadata": {},
   "outputs": [],
   "source": [
    "df['Year_of_Manufacture'] = df['Year_of_Manufacture'].astype(int)"
   ]
  },
  {
   "cell_type": "code",
   "execution_count": 167,
   "id": "9e33a0cd",
   "metadata": {},
   "outputs": [],
   "source": [
    "df.drop('kms_driven',axis=1,inplace=True)\n",
    "df.drop('Price',axis=1,inplace=True)"
   ]
  },
  {
   "cell_type": "code",
   "execution_count": 168,
   "id": "1b7bdd72",
   "metadata": {},
   "outputs": [],
   "source": [
    "def car_age_category(row):\n",
    "    if row['Year_of_Manufacture'] > 2021:\n",
    "        return 'New'\n",
    "    elif row['Year_of_Manufacture'] > 2016:\n",
    "        return 'Moderate'\n",
    "    else:\n",
    "        return 'Old'\n",
    "        \n",
    "df['Car_Age_Category'] = df.apply(car_age_category, axis=1)"
   ]
  },
  {
   "cell_type": "code",
   "execution_count": 169,
   "id": "fcba58b7-b47a-46aa-bbfe-81d72a464dea",
   "metadata": {},
   "outputs": [
    {
     "data": {
      "text/html": [
       "<div>\n",
       "<style scoped>\n",
       "    .dataframe tbody tr th:only-of-type {\n",
       "        vertical-align: middle;\n",
       "    }\n",
       "\n",
       "    .dataframe tbody tr th {\n",
       "        vertical-align: top;\n",
       "    }\n",
       "\n",
       "    .dataframe thead th {\n",
       "        text-align: right;\n",
       "    }\n",
       "</style>\n",
       "<table border=\"1\" class=\"dataframe\">\n",
       "  <thead>\n",
       "    <tr style=\"text-align: right;\">\n",
       "      <th></th>\n",
       "      <th>Year_of_Manufacture</th>\n",
       "      <th>Brand</th>\n",
       "      <th>Model</th>\n",
       "      <th>Fuel_Type</th>\n",
       "      <th>Location</th>\n",
       "      <th>Price_in_Rupees</th>\n",
       "      <th>KMs_driven</th>\n",
       "      <th>Car_Age_Category</th>\n",
       "    </tr>\n",
       "  </thead>\n",
       "  <tbody>\n",
       "    <tr>\n",
       "      <th>0</th>\n",
       "      <td>2016</td>\n",
       "      <td>Hyundai</td>\n",
       "      <td>Creta 1 6 SX Plus AT 11 75 000 Make Offer 45 3...</td>\n",
       "      <td>Diesel</td>\n",
       "      <td>Singasandra</td>\n",
       "      <td>1175000.0</td>\n",
       "      <td>45315</td>\n",
       "      <td>Old</td>\n",
       "    </tr>\n",
       "    <tr>\n",
       "      <th>1</th>\n",
       "      <td>2021</td>\n",
       "      <td>Hyundai</td>\n",
       "      <td>Creta SX O 1 5 Petrol CVT 2020 2022 16 85 000 ...</td>\n",
       "      <td>Petrol</td>\n",
       "      <td>Singasandra</td>\n",
       "      <td>1685000.0</td>\n",
       "      <td>15925</td>\n",
       "      <td>Moderate</td>\n",
       "    </tr>\n",
       "    <tr>\n",
       "      <th>2</th>\n",
       "      <td>2021</td>\n",
       "      <td>Hyundai</td>\n",
       "      <td>Creta SX 1 5 Petrol Executive 14 65 000 Make O...</td>\n",
       "      <td>Petrol</td>\n",
       "      <td>Singasandra</td>\n",
       "      <td>1465000.0</td>\n",
       "      <td>5070</td>\n",
       "      <td>Moderate</td>\n",
       "    </tr>\n",
       "    <tr>\n",
       "      <th>3</th>\n",
       "      <td>2022</td>\n",
       "      <td>Mahindra</td>\n",
       "      <td>XUV700 AX 7 Diesel AT AWD Luxury Pack 7 STR 20...</td>\n",
       "      <td>Diesel</td>\n",
       "      <td>Singasandra</td>\n",
       "      <td>2695000.0</td>\n",
       "      <td>29705</td>\n",
       "      <td>New</td>\n",
       "    </tr>\n",
       "    <tr>\n",
       "      <th>4</th>\n",
       "      <td>2018</td>\n",
       "      <td>Mahindra</td>\n",
       "      <td>XUV500 W7 AT 2018 2020 13 45 000 Make Offer 49...</td>\n",
       "      <td>Diesel</td>\n",
       "      <td>Singasandra</td>\n",
       "      <td>1345000.0</td>\n",
       "      <td>49131</td>\n",
       "      <td>Moderate</td>\n",
       "    </tr>\n",
       "    <tr>\n",
       "      <th>...</th>\n",
       "      <td>...</td>\n",
       "      <td>...</td>\n",
       "      <td>...</td>\n",
       "      <td>...</td>\n",
       "      <td>...</td>\n",
       "      <td>...</td>\n",
       "      <td>...</td>\n",
       "      <td>...</td>\n",
       "    </tr>\n",
       "    <tr>\n",
       "      <th>715</th>\n",
       "      <td>2018</td>\n",
       "      <td>Datsun</td>\n",
       "      <td>redi GO A 2 51 000 Make Offer Home Test Drive ...</td>\n",
       "      <td>Petrol</td>\n",
       "      <td>Banaswadi</td>\n",
       "      <td>251000.0</td>\n",
       "      <td>16113</td>\n",
       "      <td>Moderate</td>\n",
       "    </tr>\n",
       "    <tr>\n",
       "      <th>716</th>\n",
       "      <td>2014</td>\n",
       "      <td>Hyundai</td>\n",
       "      <td>Xcent S 1 2 4 18 000 Make Offer Home Test Driv...</td>\n",
       "      <td>Petrol</td>\n",
       "      <td>Banaswadi</td>\n",
       "      <td>418000.0</td>\n",
       "      <td>63189</td>\n",
       "      <td>Old</td>\n",
       "    </tr>\n",
       "    <tr>\n",
       "      <th>717</th>\n",
       "      <td>2021</td>\n",
       "      <td>Honda</td>\n",
       "      <td>Amaze VX CVT 1 2 Petrol 2021 8 04 000 Make Off...</td>\n",
       "      <td>Petrol</td>\n",
       "      <td>Banaswadi</td>\n",
       "      <td>804000.0</td>\n",
       "      <td>21140</td>\n",
       "      <td>Moderate</td>\n",
       "    </tr>\n",
       "    <tr>\n",
       "      <th>718</th>\n",
       "      <td>2014</td>\n",
       "      <td>Honda</td>\n",
       "      <td>City 1 5 V MT 5 69 092 Make Offer Home Test Dr...</td>\n",
       "      <td>Petrol</td>\n",
       "      <td>Banaswadi</td>\n",
       "      <td>569092.0</td>\n",
       "      <td>73554</td>\n",
       "      <td>Old</td>\n",
       "    </tr>\n",
       "    <tr>\n",
       "      <th>719</th>\n",
       "      <td>2021</td>\n",
       "      <td>Maruti Suzuki</td>\n",
       "      <td>Alto 800 Vxi Plus 3 96 546 Make Offer Home Tes...</td>\n",
       "      <td>Petrol</td>\n",
       "      <td>Banaswadi</td>\n",
       "      <td>396546.0</td>\n",
       "      <td>29878</td>\n",
       "      <td>Moderate</td>\n",
       "    </tr>\n",
       "  </tbody>\n",
       "</table>\n",
       "<p>720 rows × 8 columns</p>\n",
       "</div>"
      ],
      "text/plain": [
       "     Year_of_Manufacture          Brand  \\\n",
       "0                   2016        Hyundai   \n",
       "1                   2021        Hyundai   \n",
       "2                   2021        Hyundai   \n",
       "3                   2022       Mahindra   \n",
       "4                   2018       Mahindra   \n",
       "..                   ...            ...   \n",
       "715                 2018         Datsun   \n",
       "716                 2014        Hyundai   \n",
       "717                 2021          Honda   \n",
       "718                 2014          Honda   \n",
       "719                 2021  Maruti Suzuki   \n",
       "\n",
       "                                                 Model Fuel_Type     Location  \\\n",
       "0    Creta 1 6 SX Plus AT 11 75 000 Make Offer 45 3...    Diesel  Singasandra   \n",
       "1    Creta SX O 1 5 Petrol CVT 2020 2022 16 85 000 ...    Petrol  Singasandra   \n",
       "2    Creta SX 1 5 Petrol Executive 14 65 000 Make O...    Petrol  Singasandra   \n",
       "3    XUV700 AX 7 Diesel AT AWD Luxury Pack 7 STR 20...    Diesel  Singasandra   \n",
       "4    XUV500 W7 AT 2018 2020 13 45 000 Make Offer 49...    Diesel  Singasandra   \n",
       "..                                                 ...       ...          ...   \n",
       "715  redi GO A 2 51 000 Make Offer Home Test Drive ...    Petrol    Banaswadi   \n",
       "716  Xcent S 1 2 4 18 000 Make Offer Home Test Driv...    Petrol    Banaswadi   \n",
       "717  Amaze VX CVT 1 2 Petrol 2021 8 04 000 Make Off...    Petrol    Banaswadi   \n",
       "718  City 1 5 V MT 5 69 092 Make Offer Home Test Dr...    Petrol    Banaswadi   \n",
       "719  Alto 800 Vxi Plus 3 96 546 Make Offer Home Tes...    Petrol    Banaswadi   \n",
       "\n",
       "     Price_in_Rupees  KMs_driven Car_Age_Category  \n",
       "0          1175000.0       45315              Old  \n",
       "1          1685000.0       15925         Moderate  \n",
       "2          1465000.0        5070         Moderate  \n",
       "3          2695000.0       29705              New  \n",
       "4          1345000.0       49131         Moderate  \n",
       "..               ...         ...              ...  \n",
       "715         251000.0       16113         Moderate  \n",
       "716         418000.0       63189              Old  \n",
       "717         804000.0       21140         Moderate  \n",
       "718         569092.0       73554              Old  \n",
       "719         396546.0       29878         Moderate  \n",
       "\n",
       "[720 rows x 8 columns]"
      ]
     },
     "execution_count": 169,
     "metadata": {},
     "output_type": "execute_result"
    }
   ],
   "source": [
    "df"
   ]
  },
  {
   "cell_type": "code",
   "execution_count": 170,
   "id": "f878aa89",
   "metadata": {},
   "outputs": [
    {
     "data": {
      "text/html": [
       "<div>\n",
       "<style scoped>\n",
       "    .dataframe tbody tr th:only-of-type {\n",
       "        vertical-align: middle;\n",
       "    }\n",
       "\n",
       "    .dataframe tbody tr th {\n",
       "        vertical-align: top;\n",
       "    }\n",
       "\n",
       "    .dataframe thead th {\n",
       "        text-align: right;\n",
       "    }\n",
       "</style>\n",
       "<table border=\"1\" class=\"dataframe\">\n",
       "  <thead>\n",
       "    <tr style=\"text-align: right;\">\n",
       "      <th></th>\n",
       "      <th>Year_of_Manufacture</th>\n",
       "      <th>Brand</th>\n",
       "      <th>Model</th>\n",
       "      <th>Fuel_Type</th>\n",
       "      <th>Location</th>\n",
       "      <th>Price_in_Rupees</th>\n",
       "      <th>KMs_driven</th>\n",
       "      <th>Car_Age_Category</th>\n",
       "    </tr>\n",
       "  </thead>\n",
       "  <tbody>\n",
       "    <tr>\n",
       "      <th>0</th>\n",
       "      <td>2016</td>\n",
       "      <td>Hyundai</td>\n",
       "      <td>Creta 1 6 SX Plus AT 11 75 000 Make Offer 45 3...</td>\n",
       "      <td>Diesel</td>\n",
       "      <td>Singasandra</td>\n",
       "      <td>1175000.0</td>\n",
       "      <td>45315</td>\n",
       "      <td>Old</td>\n",
       "    </tr>\n",
       "    <tr>\n",
       "      <th>1</th>\n",
       "      <td>2021</td>\n",
       "      <td>Hyundai</td>\n",
       "      <td>Creta SX O 1 5 Petrol CVT 2020 2022 16 85 000 ...</td>\n",
       "      <td>Petrol</td>\n",
       "      <td>Singasandra</td>\n",
       "      <td>1685000.0</td>\n",
       "      <td>15925</td>\n",
       "      <td>Moderate</td>\n",
       "    </tr>\n",
       "    <tr>\n",
       "      <th>2</th>\n",
       "      <td>2021</td>\n",
       "      <td>Hyundai</td>\n",
       "      <td>Creta SX 1 5 Petrol Executive 14 65 000 Make O...</td>\n",
       "      <td>Petrol</td>\n",
       "      <td>Singasandra</td>\n",
       "      <td>1465000.0</td>\n",
       "      <td>5070</td>\n",
       "      <td>Moderate</td>\n",
       "    </tr>\n",
       "    <tr>\n",
       "      <th>3</th>\n",
       "      <td>2022</td>\n",
       "      <td>Mahindra</td>\n",
       "      <td>XUV700 AX 7 Diesel AT AWD Luxury Pack 7 STR 20...</td>\n",
       "      <td>Diesel</td>\n",
       "      <td>Singasandra</td>\n",
       "      <td>2695000.0</td>\n",
       "      <td>29705</td>\n",
       "      <td>New</td>\n",
       "    </tr>\n",
       "    <tr>\n",
       "      <th>4</th>\n",
       "      <td>2018</td>\n",
       "      <td>Mahindra</td>\n",
       "      <td>XUV500 W7 AT 2018 2020 13 45 000 Make Offer 49...</td>\n",
       "      <td>Diesel</td>\n",
       "      <td>Singasandra</td>\n",
       "      <td>1345000.0</td>\n",
       "      <td>49131</td>\n",
       "      <td>Moderate</td>\n",
       "    </tr>\n",
       "  </tbody>\n",
       "</table>\n",
       "</div>"
      ],
      "text/plain": [
       "   Year_of_Manufacture     Brand  \\\n",
       "0                 2016   Hyundai   \n",
       "1                 2021   Hyundai   \n",
       "2                 2021   Hyundai   \n",
       "3                 2022  Mahindra   \n",
       "4                 2018  Mahindra   \n",
       "\n",
       "                                               Model Fuel_Type     Location  \\\n",
       "0  Creta 1 6 SX Plus AT 11 75 000 Make Offer 45 3...    Diesel  Singasandra   \n",
       "1  Creta SX O 1 5 Petrol CVT 2020 2022 16 85 000 ...    Petrol  Singasandra   \n",
       "2  Creta SX 1 5 Petrol Executive 14 65 000 Make O...    Petrol  Singasandra   \n",
       "3  XUV700 AX 7 Diesel AT AWD Luxury Pack 7 STR 20...    Diesel  Singasandra   \n",
       "4  XUV500 W7 AT 2018 2020 13 45 000 Make Offer 49...    Diesel  Singasandra   \n",
       "\n",
       "   Price_in_Rupees  KMs_driven Car_Age_Category  \n",
       "0        1175000.0       45315              Old  \n",
       "1        1685000.0       15925         Moderate  \n",
       "2        1465000.0        5070         Moderate  \n",
       "3        2695000.0       29705              New  \n",
       "4        1345000.0       49131         Moderate  "
      ]
     },
     "execution_count": 170,
     "metadata": {},
     "output_type": "execute_result"
    }
   ],
   "source": [
    "df.head()"
   ]
  },
  {
   "cell_type": "code",
   "execution_count": 171,
   "id": "97ce6515",
   "metadata": {},
   "outputs": [
    {
     "data": {
      "text/html": [
       "<div>\n",
       "<style scoped>\n",
       "    .dataframe tbody tr th:only-of-type {\n",
       "        vertical-align: middle;\n",
       "    }\n",
       "\n",
       "    .dataframe tbody tr th {\n",
       "        vertical-align: top;\n",
       "    }\n",
       "\n",
       "    .dataframe thead th {\n",
       "        text-align: right;\n",
       "    }\n",
       "</style>\n",
       "<table border=\"1\" class=\"dataframe\">\n",
       "  <thead>\n",
       "    <tr style=\"text-align: right;\">\n",
       "      <th></th>\n",
       "      <th>Year_of_Manufacture</th>\n",
       "      <th>Brand</th>\n",
       "      <th>Model</th>\n",
       "      <th>Fuel_Type</th>\n",
       "      <th>Location</th>\n",
       "      <th>Price_in_Rupees</th>\n",
       "      <th>KMs_driven</th>\n",
       "      <th>Car_Age_Category</th>\n",
       "    </tr>\n",
       "  </thead>\n",
       "  <tbody>\n",
       "    <tr>\n",
       "      <th>715</th>\n",
       "      <td>2018</td>\n",
       "      <td>Datsun</td>\n",
       "      <td>redi GO A 2 51 000 Make Offer Home Test Drive ...</td>\n",
       "      <td>Petrol</td>\n",
       "      <td>Banaswadi</td>\n",
       "      <td>251000.0</td>\n",
       "      <td>16113</td>\n",
       "      <td>Moderate</td>\n",
       "    </tr>\n",
       "    <tr>\n",
       "      <th>716</th>\n",
       "      <td>2014</td>\n",
       "      <td>Hyundai</td>\n",
       "      <td>Xcent S 1 2 4 18 000 Make Offer Home Test Driv...</td>\n",
       "      <td>Petrol</td>\n",
       "      <td>Banaswadi</td>\n",
       "      <td>418000.0</td>\n",
       "      <td>63189</td>\n",
       "      <td>Old</td>\n",
       "    </tr>\n",
       "    <tr>\n",
       "      <th>717</th>\n",
       "      <td>2021</td>\n",
       "      <td>Honda</td>\n",
       "      <td>Amaze VX CVT 1 2 Petrol 2021 8 04 000 Make Off...</td>\n",
       "      <td>Petrol</td>\n",
       "      <td>Banaswadi</td>\n",
       "      <td>804000.0</td>\n",
       "      <td>21140</td>\n",
       "      <td>Moderate</td>\n",
       "    </tr>\n",
       "    <tr>\n",
       "      <th>718</th>\n",
       "      <td>2014</td>\n",
       "      <td>Honda</td>\n",
       "      <td>City 1 5 V MT 5 69 092 Make Offer Home Test Dr...</td>\n",
       "      <td>Petrol</td>\n",
       "      <td>Banaswadi</td>\n",
       "      <td>569092.0</td>\n",
       "      <td>73554</td>\n",
       "      <td>Old</td>\n",
       "    </tr>\n",
       "    <tr>\n",
       "      <th>719</th>\n",
       "      <td>2021</td>\n",
       "      <td>Maruti Suzuki</td>\n",
       "      <td>Alto 800 Vxi Plus 3 96 546 Make Offer Home Tes...</td>\n",
       "      <td>Petrol</td>\n",
       "      <td>Banaswadi</td>\n",
       "      <td>396546.0</td>\n",
       "      <td>29878</td>\n",
       "      <td>Moderate</td>\n",
       "    </tr>\n",
       "  </tbody>\n",
       "</table>\n",
       "</div>"
      ],
      "text/plain": [
       "     Year_of_Manufacture          Brand  \\\n",
       "715                 2018         Datsun   \n",
       "716                 2014        Hyundai   \n",
       "717                 2021          Honda   \n",
       "718                 2014          Honda   \n",
       "719                 2021  Maruti Suzuki   \n",
       "\n",
       "                                                 Model Fuel_Type   Location  \\\n",
       "715  redi GO A 2 51 000 Make Offer Home Test Drive ...    Petrol  Banaswadi   \n",
       "716  Xcent S 1 2 4 18 000 Make Offer Home Test Driv...    Petrol  Banaswadi   \n",
       "717  Amaze VX CVT 1 2 Petrol 2021 8 04 000 Make Off...    Petrol  Banaswadi   \n",
       "718  City 1 5 V MT 5 69 092 Make Offer Home Test Dr...    Petrol  Banaswadi   \n",
       "719  Alto 800 Vxi Plus 3 96 546 Make Offer Home Tes...    Petrol  Banaswadi   \n",
       "\n",
       "     Price_in_Rupees  KMs_driven Car_Age_Category  \n",
       "715         251000.0       16113         Moderate  \n",
       "716         418000.0       63189              Old  \n",
       "717         804000.0       21140         Moderate  \n",
       "718         569092.0       73554              Old  \n",
       "719         396546.0       29878         Moderate  "
      ]
     },
     "execution_count": 171,
     "metadata": {},
     "output_type": "execute_result"
    }
   ],
   "source": [
    "df.tail()"
   ]
  },
  {
   "cell_type": "code",
   "execution_count": 172,
   "id": "e03f53cb-e9a6-4804-ac12-253dc46e2d85",
   "metadata": {},
   "outputs": [],
   "source": [
    "df.to_csv('Benguluru_Used_Cars_data.csv')"
   ]
  },
  {
   "cell_type": "markdown",
   "id": "45d24883",
   "metadata": {},
   "source": [
    "## Data Cleaning"
   ]
  },
  {
   "cell_type": "code",
   "execution_count": 173,
   "id": "c4187b63",
   "metadata": {},
   "outputs": [
    {
     "name": "stdout",
     "output_type": "stream",
     "text": [
      "<class 'pandas.core.frame.DataFrame'>\n",
      "Int64Index: 720 entries, 0 to 719\n",
      "Data columns (total 8 columns):\n",
      " #   Column               Non-Null Count  Dtype  \n",
      "---  ------               --------------  -----  \n",
      " 0   Year_of_Manufacture  720 non-null    int64  \n",
      " 1   Brand                720 non-null    object \n",
      " 2   Model                720 non-null    object \n",
      " 3   Fuel_Type            720 non-null    object \n",
      " 4   Location             720 non-null    object \n",
      " 5   Price_in_Rupees      720 non-null    float64\n",
      " 6   KMs_driven           720 non-null    int64  \n",
      " 7   Car_Age_Category     720 non-null    object \n",
      "dtypes: float64(1), int64(2), object(5)\n",
      "memory usage: 50.6+ KB\n"
     ]
    }
   ],
   "source": [
    "df.info()"
   ]
  },
  {
   "cell_type": "code",
   "execution_count": 174,
   "id": "a803e283",
   "metadata": {},
   "outputs": [
    {
     "data": {
      "text/plain": [
       "Year_of_Manufacture    0\n",
       "Brand                  0\n",
       "Model                  0\n",
       "Fuel_Type              0\n",
       "Location               0\n",
       "Price_in_Rupees        0\n",
       "KMs_driven             0\n",
       "Car_Age_Category       0\n",
       "dtype: int64"
      ]
     },
     "execution_count": 174,
     "metadata": {},
     "output_type": "execute_result"
    }
   ],
   "source": [
    "df.isna().sum()"
   ]
  },
  {
   "cell_type": "code",
   "execution_count": 175,
   "id": "992226b7",
   "metadata": {},
   "outputs": [
    {
     "data": {
      "text/plain": [
       "132"
      ]
     },
     "execution_count": 175,
     "metadata": {},
     "output_type": "execute_result"
    }
   ],
   "source": [
    "df.duplicated().sum()"
   ]
  },
  {
   "cell_type": "code",
   "execution_count": 176,
   "id": "08ae5cac",
   "metadata": {},
   "outputs": [],
   "source": [
    "df.drop_duplicates(inplace = True, ignore_index = True)"
   ]
  },
  {
   "cell_type": "code",
   "execution_count": 177,
   "id": "b7153f53",
   "metadata": {},
   "outputs": [
    {
     "data": {
      "text/plain": [
       "0"
      ]
     },
     "execution_count": 177,
     "metadata": {},
     "output_type": "execute_result"
    }
   ],
   "source": [
    "df.duplicated().sum()"
   ]
  },
  {
   "cell_type": "markdown",
   "id": "60a133e1",
   "metadata": {},
   "source": [
    "df"
   ]
  },
  {
   "cell_type": "code",
   "execution_count": 179,
   "id": "0fe8b3e7",
   "metadata": {},
   "outputs": [
    {
     "name": "stdout",
     "output_type": "stream",
     "text": [
      "<class 'pandas.core.frame.DataFrame'>\n",
      "RangeIndex: 588 entries, 0 to 587\n",
      "Data columns (total 8 columns):\n",
      " #   Column               Non-Null Count  Dtype  \n",
      "---  ------               --------------  -----  \n",
      " 0   Year_of_Manufacture  588 non-null    int64  \n",
      " 1   Brand                588 non-null    object \n",
      " 2   Model                588 non-null    object \n",
      " 3   Fuel_Type            588 non-null    object \n",
      " 4   Location             588 non-null    object \n",
      " 5   Price_in_Rupees      588 non-null    float64\n",
      " 6   KMs_driven           588 non-null    int64  \n",
      " 7   Car_Age_Category     588 non-null    object \n",
      "dtypes: float64(1), int64(2), object(5)\n",
      "memory usage: 36.9+ KB\n"
     ]
    }
   ],
   "source": [
    "df.info()"
   ]
  },
  {
   "cell_type": "code",
   "execution_count": 180,
   "id": "fb105779",
   "metadata": {},
   "outputs": [
    {
     "data": {
      "text/html": [
       "<div>\n",
       "<style scoped>\n",
       "    .dataframe tbody tr th:only-of-type {\n",
       "        vertical-align: middle;\n",
       "    }\n",
       "\n",
       "    .dataframe tbody tr th {\n",
       "        vertical-align: top;\n",
       "    }\n",
       "\n",
       "    .dataframe thead th {\n",
       "        text-align: right;\n",
       "    }\n",
       "</style>\n",
       "<table border=\"1\" class=\"dataframe\">\n",
       "  <thead>\n",
       "    <tr style=\"text-align: right;\">\n",
       "      <th></th>\n",
       "      <th>count</th>\n",
       "      <th>mean</th>\n",
       "      <th>std</th>\n",
       "      <th>min</th>\n",
       "      <th>25%</th>\n",
       "      <th>50%</th>\n",
       "      <th>75%</th>\n",
       "      <th>max</th>\n",
       "    </tr>\n",
       "  </thead>\n",
       "  <tbody>\n",
       "    <tr>\n",
       "      <th>Year_of_Manufacture</th>\n",
       "      <td>588.0</td>\n",
       "      <td>2.018539e+03</td>\n",
       "      <td>3.080438e+00</td>\n",
       "      <td>2008.0</td>\n",
       "      <td>2017.00</td>\n",
       "      <td>2019.0</td>\n",
       "      <td>2021.00</td>\n",
       "      <td>2024.0</td>\n",
       "    </tr>\n",
       "    <tr>\n",
       "      <th>Price_in_Rupees</th>\n",
       "      <td>588.0</td>\n",
       "      <td>2.143160e+06</td>\n",
       "      <td>2.044141e+06</td>\n",
       "      <td>229000.0</td>\n",
       "      <td>825000.00</td>\n",
       "      <td>1469063.0</td>\n",
       "      <td>2650000.00</td>\n",
       "      <td>14500000.0</td>\n",
       "    </tr>\n",
       "    <tr>\n",
       "      <th>KMs_driven</th>\n",
       "      <td>588.0</td>\n",
       "      <td>4.871954e+04</td>\n",
       "      <td>2.995007e+04</td>\n",
       "      <td>3300.0</td>\n",
       "      <td>25898.25</td>\n",
       "      <td>43432.0</td>\n",
       "      <td>67704.25</td>\n",
       "      <td>215000.0</td>\n",
       "    </tr>\n",
       "  </tbody>\n",
       "</table>\n",
       "</div>"
      ],
      "text/plain": [
       "                     count          mean           std       min        25%  \\\n",
       "Year_of_Manufacture  588.0  2.018539e+03  3.080438e+00    2008.0    2017.00   \n",
       "Price_in_Rupees      588.0  2.143160e+06  2.044141e+06  229000.0  825000.00   \n",
       "KMs_driven           588.0  4.871954e+04  2.995007e+04    3300.0   25898.25   \n",
       "\n",
       "                           50%         75%         max  \n",
       "Year_of_Manufacture     2019.0     2021.00      2024.0  \n",
       "Price_in_Rupees      1469063.0  2650000.00  14500000.0  \n",
       "KMs_driven             43432.0    67704.25    215000.0  "
      ]
     },
     "execution_count": 180,
     "metadata": {},
     "output_type": "execute_result"
    }
   ],
   "source": [
    "df.describe().T"
   ]
  },
  {
   "cell_type": "code",
   "execution_count": 181,
   "id": "fc2a76d9-f48b-482a-91f2-cb52baeabe43",
   "metadata": {},
   "outputs": [
    {
     "data": {
      "text/html": [
       "<div>\n",
       "<style scoped>\n",
       "    .dataframe tbody tr th:only-of-type {\n",
       "        vertical-align: middle;\n",
       "    }\n",
       "\n",
       "    .dataframe tbody tr th {\n",
       "        vertical-align: top;\n",
       "    }\n",
       "\n",
       "    .dataframe thead th {\n",
       "        text-align: right;\n",
       "    }\n",
       "</style>\n",
       "<table border=\"1\" class=\"dataframe\">\n",
       "  <thead>\n",
       "    <tr style=\"text-align: right;\">\n",
       "      <th></th>\n",
       "      <th>Brand</th>\n",
       "      <th>Model</th>\n",
       "      <th>Fuel_Type</th>\n",
       "      <th>Location</th>\n",
       "      <th>Car_Age_Category</th>\n",
       "    </tr>\n",
       "  </thead>\n",
       "  <tbody>\n",
       "    <tr>\n",
       "      <th>count</th>\n",
       "      <td>588</td>\n",
       "      <td>588</td>\n",
       "      <td>588</td>\n",
       "      <td>588</td>\n",
       "      <td>588</td>\n",
       "    </tr>\n",
       "    <tr>\n",
       "      <th>unique</th>\n",
       "      <td>24</td>\n",
       "      <td>588</td>\n",
       "      <td>8</td>\n",
       "      <td>11</td>\n",
       "      <td>3</td>\n",
       "    </tr>\n",
       "    <tr>\n",
       "      <th>top</th>\n",
       "      <td>Hyundai</td>\n",
       "      <td>Creta 1 6 SX Plus AT 11 75 000 Make Offer 45 3...</td>\n",
       "      <td>Petrol</td>\n",
       "      <td>Hebbal</td>\n",
       "      <td>Moderate</td>\n",
       "    </tr>\n",
       "    <tr>\n",
       "      <th>freq</th>\n",
       "      <td>98</td>\n",
       "      <td>1</td>\n",
       "      <td>293</td>\n",
       "      <td>157</td>\n",
       "      <td>329</td>\n",
       "    </tr>\n",
       "  </tbody>\n",
       "</table>\n",
       "</div>"
      ],
      "text/plain": [
       "          Brand                                              Model Fuel_Type  \\\n",
       "count       588                                                588       588   \n",
       "unique       24                                                588         8   \n",
       "top     Hyundai  Creta 1 6 SX Plus AT 11 75 000 Make Offer 45 3...    Petrol   \n",
       "freq         98                                                  1       293   \n",
       "\n",
       "       Location Car_Age_Category  \n",
       "count       588              588  \n",
       "unique       11                3  \n",
       "top      Hebbal         Moderate  \n",
       "freq        157              329  "
      ]
     },
     "execution_count": 181,
     "metadata": {},
     "output_type": "execute_result"
    }
   ],
   "source": [
    "df.describe(include='object')"
   ]
  },
  {
   "cell_type": "code",
   "execution_count": 182,
   "id": "d1f8c22a",
   "metadata": {},
   "outputs": [
    {
     "data": {
      "text/plain": [
       "array(['Hyundai', 'Mahindra', 'Tata', 'BMW', 'Maruti Suzuki', 'Ford',\n",
       "       'Toyota', 'Honda', 'Kia', 'Renault', 'Volkswagen', 'Mercedes Benz',\n",
       "       'Skoda', 'Audi', 'MINI', 'Land Rover', 'MG', 'Jeep', 'Nissan',\n",
       "       'Volvo', 'Jaguar', 'Mitsubishi', 'Porsche', 'Datsun'], dtype=object)"
      ]
     },
     "execution_count": 182,
     "metadata": {},
     "output_type": "execute_result"
    }
   ],
   "source": [
    "df['Brand'].unique()"
   ]
  },
  {
   "cell_type": "code",
   "execution_count": 183,
   "id": "4ea1c4fa-7379-4a2a-895d-206371c643c9",
   "metadata": {},
   "outputs": [
    {
     "data": {
      "text/plain": [
       "array(['Diesel', 'Petrol', 'Hybrid', 'Mild Hybrid (Electric + Diesel)',\n",
       "       'Mild Hybrid(Electric + Petrol)', 'Petrol + 1', 'CNG', 'Electric'],\n",
       "      dtype=object)"
      ]
     },
     "execution_count": 183,
     "metadata": {},
     "output_type": "execute_result"
    }
   ],
   "source": [
    "df['Fuel_Type'].unique()"
   ]
  },
  {
   "cell_type": "code",
   "execution_count": 184,
   "id": "1227f0b2",
   "metadata": {},
   "outputs": [
    {
     "data": {
      "text/plain": [
       "array(['Singasandra', 'BTM Layout', 'Adugodi', 'Hebbal',\n",
       "       'Kengeri Satellite Town', 'Bettahalsoor', 'Anand Nagar',\n",
       "       'J. P. Nagar', 'Banaswadi', 'Basapura', 'Binnamangala'],\n",
       "      dtype=object)"
      ]
     },
     "execution_count": 184,
     "metadata": {},
     "output_type": "execute_result"
    }
   ],
   "source": [
    "df['Location'].unique()"
   ]
  },
  {
   "cell_type": "code",
   "execution_count": 186,
   "id": "2ba6fd5d",
   "metadata": {},
   "outputs": [
    {
     "data": {
      "text/plain": [
       "array([2016, 2021, 2022, 2018, 2020, 2019, 2017, 2023, 2015, 2012, 2014,\n",
       "       2013, 2010, 2009, 2024, 2008, 2011])"
      ]
     },
     "execution_count": 186,
     "metadata": {},
     "output_type": "execute_result"
    }
   ],
   "source": [
    "df['Year_of_Manufacture'].unique()"
   ]
  },
  {
   "cell_type": "code",
   "execution_count": 187,
   "id": "944e76b6",
   "metadata": {},
   "outputs": [
    {
     "data": {
      "text/plain": [
       "Moderate    329\n",
       "Old         142\n",
       "New         117\n",
       "Name: Car_Age_Category, dtype: int64"
      ]
     },
     "execution_count": 187,
     "metadata": {},
     "output_type": "execute_result"
    }
   ],
   "source": [
    "df['Car_Age_Category'].value_counts()"
   ]
  },
  {
   "cell_type": "code",
   "execution_count": 193,
   "id": "c6912558",
   "metadata": {},
   "outputs": [],
   "source": [
    "import matplotlib.pyplot as plt \n",
    "import seaborn as sns\n",
    "import warnings\n",
    "warnings.filterwarnings('ignore')"
   ]
  },
  {
   "cell_type": "code",
   "execution_count": 194,
   "id": "b2aba949",
   "metadata": {},
   "outputs": [
    {
     "data": {
      "text/plain": [
       "<Axes: >"
      ]
     },
     "execution_count": 194,
     "metadata": {},
     "output_type": "execute_result"
    },
    {
     "data": {
      "image/png": "[encoded data removed]",
      "text/plain": [
       "<Figure size 640x480 with 2 Axes>"
      ]
     },
     "metadata": {},
     "output_type": "display_data"
    }
   ],
   "source": [
    "sns.heatmap(df.select_dtypes(include = np.number).corr(),annot = True)"
   ]
  },
  {
   "cell_type": "code",
   "execution_count": 195,
   "id": "6e12dca0",
   "metadata": {},
   "outputs": [
    {
     "name": "stdout",
     "output_type": "stream",
     "text": [
      "We have 3 numeric_features: ['Year_of_Manufacture', 'Price_in_Rupees', 'KMs_driven']\n",
      "We have 5 categorical_features: ['Brand', 'Model', 'Fuel_Type', 'Location', 'Car_Age_Category']\n"
     ]
    }
   ],
   "source": [
    "numeric_features = [feature for feature in df.columns if df[feature].dtype != 'O']\n",
    "categorical_features = [feature for feature in df.columns if df[feature].dtype == 'O']\n",
    "\n",
    "#print columns\n",
    "print(f\"We have {len(numeric_features)} numeric_features: {numeric_features}\")\n",
    "print(f\"We have {len(categorical_features)} categorical_features: {categorical_features}\")"
   ]
  },
  {
   "cell_type": "code",
   "execution_count": 200,
   "id": "5ce63251",
   "metadata": {},
   "outputs": [
    {
     "data": {
      "image/png": "[encoded data removed]",
      "text/plain": [
       "<Figure size 1500x1500 with 3 Axes>"
      ]
     },
     "metadata": {},
     "output_type": "display_data"
    }
   ],
   "source": [
    "plt.figure(figsize=(15,15))\n",
    "###The suptitle() method figure module of matplotlib library is used to Add a centered title to the figure.\n",
    "plt.suptitle(\"Univariate Analysis of Numerical Features\",fontsize=20,fontweight='bold',alpha=0.8,y=1.)\n",
    "\n",
    "for i in range(len(numeric_features)):\n",
    "    plt.subplot(5,3,i+1)\n",
    "    sns.distplot(x=df[numeric_features[i]],color='b')\n",
    "    plt.xlabel(numeric_features[i])\n",
    "    plt.tight_layout()"
   ]
  },
  {
   "cell_type": "markdown",
   "id": "a0ee3a9c",
   "metadata": {},
   "source": [
    "# Visualization\n",
    "\n",
    "1. Uni - Variate \n",
    "\n",
    "- single column analysis\n",
    "\n",
    "    - a. Categorical\n",
    "    - b. Numerical\n",
    "\n",
    "# 1. Cat\n",
    "\n",
    "ex: Vehicle_Grade - New, Moderate and Old\n",
    "    \n",
    "    "
   ]
  },
  {
   "cell_type": "markdown",
   "id": "f322d42c",
   "metadata": {},
   "source": [
    "create a sub dataframe using brand, fuel, loca, veh grade"
   ]
  },
  {
   "cell_type": "code",
   "execution_count": 59,
   "id": "57c09f88",
   "metadata": {},
   "outputs": [
    {
     "name": "stdout",
     "output_type": "stream",
     "text": [
      "              Brand                                             Model  \\\n",
      "0           Hyundai                              Creta 1 6 SX Plus AT   \n",
      "1           Hyundai               Creta SX O 1 5 Petrol CVT 2020 2022   \n",
      "2           Hyundai                     Creta SX 1 5 Petrol Executive   \n",
      "3          Mahindra  XUV700 AX 7 Diesel AT AWD Luxury Pack 7 STR 2021   \n",
      "4               BMW                3 Series 320d Sport Line 2016 2018   \n",
      "...             ...                                               ...   \n",
      "1171  Maruti Suzuki                         Celerio ZXi AMT 2019 2020   \n",
      "1172          Honda                   Amaze 1 2 V MT Petrol 2018 2020   \n",
      "1173          Honda                                     Elevate ZX MT   \n",
      "1174           Tata                                   Harrier XZ Plus   \n",
      "1175     Land Rover                    Range Rover Evoque HSE Dynamic   \n",
      "\n",
      "     Fuel_Type  \n",
      "0       Diesel  \n",
      "1       Petrol  \n",
      "2       Petrol  \n",
      "3       Diesel  \n",
      "4       Diesel  \n",
      "...        ...  \n",
      "1171    Petrol  \n",
      "1172    Petrol  \n",
      "1173    Petrol  \n",
      "1174    Diesel  \n",
      "1175    Diesel  \n",
      "\n",
      "[1176 rows x 3 columns]\n"
     ]
    }
   ],
   "source": [
    "\n",
    "new_df = df[['Brand', 'Model', 'Fuel_Type']]\n",
    "\n",
    "# Step 2: Display the new DataFrame\n",
    "print(new_df)\n"
   ]
  },
  {
   "cell_type": "markdown",
   "id": "67cce4c6",
   "metadata": {},
   "source": [
    "use for loop and plot all graphs"
   ]
  },
  {
   "cell_type": "code",
   "execution_count": 60,
   "id": "e626ffc9",
   "metadata": {},
   "outputs": [
    {
     "data": {
      "text/html": [
       "<div>\n",
       "<style scoped>\n",
       "    .dataframe tbody tr th:only-of-type {\n",
       "        vertical-align: middle;\n",
       "    }\n",
       "\n",
       "    .dataframe tbody tr th {\n",
       "        vertical-align: top;\n",
       "    }\n",
       "\n",
       "    .dataframe thead th {\n",
       "        text-align: right;\n",
       "    }\n",
       "</style>\n",
       "<table border=\"1\" class=\"dataframe\">\n",
       "  <thead>\n",
       "    <tr style=\"text-align: right;\">\n",
       "      <th></th>\n",
       "      <th>Year of Manufacture</th>\n",
       "      <th>Brand</th>\n",
       "      <th>Model</th>\n",
       "      <th>Fuel_Type</th>\n",
       "      <th>location</th>\n",
       "      <th>price(₹)</th>\n",
       "      <th>Distance_kms_driven</th>\n",
       "      <th>Vehicle_Grade</th>\n",
       "    </tr>\n",
       "  </thead>\n",
       "  <tbody>\n",
       "    <tr>\n",
       "      <th>0</th>\n",
       "      <td>2016</td>\n",
       "      <td>Hyundai</td>\n",
       "      <td>Creta 1 6 SX Plus AT</td>\n",
       "      <td>Diesel</td>\n",
       "      <td>Singasandra</td>\n",
       "      <td>1175000.0</td>\n",
       "      <td>45315</td>\n",
       "      <td>old</td>\n",
       "    </tr>\n",
       "    <tr>\n",
       "      <th>1</th>\n",
       "      <td>2021</td>\n",
       "      <td>Hyundai</td>\n",
       "      <td>Creta SX O 1 5 Petrol CVT 2020 2022</td>\n",
       "      <td>Petrol</td>\n",
       "      <td>Singasandra</td>\n",
       "      <td>1685000.0</td>\n",
       "      <td>15925</td>\n",
       "      <td>moderate</td>\n",
       "    </tr>\n",
       "    <tr>\n",
       "      <th>2</th>\n",
       "      <td>2021</td>\n",
       "      <td>Hyundai</td>\n",
       "      <td>Creta SX 1 5 Petrol Executive</td>\n",
       "      <td>Petrol</td>\n",
       "      <td>Singasandra</td>\n",
       "      <td>1465000.0</td>\n",
       "      <td>5070</td>\n",
       "      <td>moderate</td>\n",
       "    </tr>\n",
       "    <tr>\n",
       "      <th>3</th>\n",
       "      <td>2022</td>\n",
       "      <td>Mahindra</td>\n",
       "      <td>XUV700 AX 7 Diesel AT AWD Luxury Pack 7 STR 2021</td>\n",
       "      <td>Diesel</td>\n",
       "      <td>Singasandra</td>\n",
       "      <td>2695000.0</td>\n",
       "      <td>29705</td>\n",
       "      <td>new</td>\n",
       "    </tr>\n",
       "    <tr>\n",
       "      <th>4</th>\n",
       "      <td>2020</td>\n",
       "      <td>BMW</td>\n",
       "      <td>3 Series 320d Sport Line 2016 2018</td>\n",
       "      <td>Diesel</td>\n",
       "      <td>BTM Layout</td>\n",
       "      <td>4525000.0</td>\n",
       "      <td>44244</td>\n",
       "      <td>moderate</td>\n",
       "    </tr>\n",
       "    <tr>\n",
       "      <th>...</th>\n",
       "      <td>...</td>\n",
       "      <td>...</td>\n",
       "      <td>...</td>\n",
       "      <td>...</td>\n",
       "      <td>...</td>\n",
       "      <td>...</td>\n",
       "      <td>...</td>\n",
       "      <td>...</td>\n",
       "    </tr>\n",
       "    <tr>\n",
       "      <th>1171</th>\n",
       "      <td>2015</td>\n",
       "      <td>Maruti Suzuki</td>\n",
       "      <td>Celerio ZXi AMT 2019 2020</td>\n",
       "      <td>Petrol</td>\n",
       "      <td>Koramangala 6th block</td>\n",
       "      <td>385000.0</td>\n",
       "      <td>96479</td>\n",
       "      <td>old</td>\n",
       "    </tr>\n",
       "    <tr>\n",
       "      <th>1172</th>\n",
       "      <td>2019</td>\n",
       "      <td>Honda</td>\n",
       "      <td>Amaze 1 2 V MT Petrol 2018 2020</td>\n",
       "      <td>Petrol</td>\n",
       "      <td>Koramangala 6th block</td>\n",
       "      <td>690000.0</td>\n",
       "      <td>13500</td>\n",
       "      <td>moderate</td>\n",
       "    </tr>\n",
       "    <tr>\n",
       "      <th>1173</th>\n",
       "      <td>2024</td>\n",
       "      <td>Honda</td>\n",
       "      <td>Elevate ZX MT</td>\n",
       "      <td>Petrol</td>\n",
       "      <td>Koramangala 6th block</td>\n",
       "      <td>1800000.0</td>\n",
       "      <td>400</td>\n",
       "      <td>new</td>\n",
       "    </tr>\n",
       "    <tr>\n",
       "      <th>1174</th>\n",
       "      <td>2022</td>\n",
       "      <td>Tata</td>\n",
       "      <td>Harrier XZ Plus</td>\n",
       "      <td>Diesel</td>\n",
       "      <td>Banaswadi</td>\n",
       "      <td>2200000.0</td>\n",
       "      <td>27000</td>\n",
       "      <td>new</td>\n",
       "    </tr>\n",
       "    <tr>\n",
       "      <th>1175</th>\n",
       "      <td>2016</td>\n",
       "      <td>Land Rover</td>\n",
       "      <td>Range Rover Evoque HSE Dynamic</td>\n",
       "      <td>Diesel</td>\n",
       "      <td>Bilekahalli</td>\n",
       "      <td>3750000.0</td>\n",
       "      <td>73166</td>\n",
       "      <td>old</td>\n",
       "    </tr>\n",
       "  </tbody>\n",
       "</table>\n",
       "<p>1176 rows × 8 columns</p>\n",
       "</div>"
      ],
      "text/plain": [
       "      Year of Manufacture          Brand  \\\n",
       "0                    2016        Hyundai   \n",
       "1                    2021        Hyundai   \n",
       "2                    2021        Hyundai   \n",
       "3                    2022       Mahindra   \n",
       "4                    2020            BMW   \n",
       "...                   ...            ...   \n",
       "1171                 2015  Maruti Suzuki   \n",
       "1172                 2019          Honda   \n",
       "1173                 2024          Honda   \n",
       "1174                 2022           Tata   \n",
       "1175                 2016     Land Rover   \n",
       "\n",
       "                                                 Model Fuel_Type  \\\n",
       "0                                 Creta 1 6 SX Plus AT    Diesel   \n",
       "1                  Creta SX O 1 5 Petrol CVT 2020 2022    Petrol   \n",
       "2                        Creta SX 1 5 Petrol Executive    Petrol   \n",
       "3     XUV700 AX 7 Diesel AT AWD Luxury Pack 7 STR 2021    Diesel   \n",
       "4                   3 Series 320d Sport Line 2016 2018    Diesel   \n",
       "...                                                ...       ...   \n",
       "1171                         Celerio ZXi AMT 2019 2020    Petrol   \n",
       "1172                   Amaze 1 2 V MT Petrol 2018 2020    Petrol   \n",
       "1173                                     Elevate ZX MT    Petrol   \n",
       "1174                                   Harrier XZ Plus    Diesel   \n",
       "1175                    Range Rover Evoque HSE Dynamic    Diesel   \n",
       "\n",
       "                   location   price(₹)  Distance_kms_driven Vehicle_Grade  \n",
       "0               Singasandra  1175000.0                45315           old  \n",
       "1               Singasandra  1685000.0                15925      moderate  \n",
       "2               Singasandra  1465000.0                 5070      moderate  \n",
       "3               Singasandra  2695000.0                29705           new  \n",
       "4                BTM Layout  4525000.0                44244      moderate  \n",
       "...                     ...        ...                  ...           ...  \n",
       "1171  Koramangala 6th block   385000.0                96479           old  \n",
       "1172  Koramangala 6th block   690000.0                13500      moderate  \n",
       "1173  Koramangala 6th block  1800000.0                  400           new  \n",
       "1174              Banaswadi  2200000.0                27000           new  \n",
       "1175            Bilekahalli  3750000.0                73166           old  \n",
       "\n",
       "[1176 rows x 8 columns]"
      ]
     },
     "execution_count": 60,
     "metadata": {},
     "output_type": "execute_result"
    }
   ],
   "source": [
    "df"
   ]
  },
  {
   "cell_type": "code",
   "execution_count": 201,
   "id": "08fac7b2",
   "metadata": {},
   "outputs": [
    {
     "data": {
      "text/plain": [
       "Hebbal                    157\n",
       "Singasandra                87\n",
       "BTM Layout                 68\n",
       "Basapura                   56\n",
       "Adugodi                    43\n",
       "Anand Nagar                43\n",
       "Bettahalsoor               34\n",
       "J. P. Nagar                28\n",
       "Kengeri Satellite Town     27\n",
       "Binnamangala               25\n",
       "Banaswadi                  20\n",
       "Name: Location, dtype: int64"
      ]
     },
     "execution_count": 201,
     "metadata": {},
     "output_type": "execute_result"
    }
   ],
   "source": [
    "df['Location'].value_counts()"
   ]
  },
  {
   "cell_type": "markdown",
   "id": "4d6bfae9",
   "metadata": {},
   "source": [
    "pie, bar, count plot "
   ]
  },
  {
   "cell_type": "markdown",
   "id": "96a4c30d",
   "metadata": {},
   "source": [
    "When working with a single categorical column in Python using Matplotlib, you have several plot types to visualize the data. Here are some of the most common ones:\n",
    "\n",
    "### 1. **Bar Plot**\n",
    "   - **Usage**: Displays the frequency of categories.\n",
    "   - **Example**:\n",
    "     ```python\n",
    "     plt.bar(fuel_type_counts.index, fuel_type_counts.values)\n",
    "     plt.show()\n",
    "     ```\n",
    "\n",
    "### 2. **Pie Chart**\n",
    "   - **Usage**: Shows the proportion of each category as a slice of a pie.\n",
    "   - **Example**:\n",
    "     ```python\n",
    "     plt.pie(fuel_type_counts, labels=fuel_type_counts.index, autopct='%1.1f%%')\n",
    "     plt.show()\n",
    "     ```\n",
    "\n",
    "### 3. **Count Plot** (using Seaborn with Matplotlib)\n",
    "   - **Usage**: Similar to a bar plot but more aesthetically pleasing, often used to show counts of categorical data.\n",
    "   - **Example**:\n",
    "     ```python\n",
    "     import seaborn as sns\n",
    "     sns.countplot(x='Fuel_Type', data=df)\n",
    "     plt.show()\n",
    "     ```\n",
    "\n",
    "### 4. **Dot Plot**\n",
    "   - **Usage**: Displays each individual observation, often used to show distribution.\n",
    "   - **Example**:\n",
    "     ```python\n",
    "     plt.plot(df['Fuel_Type'].value_counts().index, df['Fuel_Type'].value_counts().values, 'o')\n",
    "     plt.show()\n",
    "     ```\n",
    "\n",
    "### 5. **Horizontal Bar Plot**\n",
    "   - **Usage**: A horizontal version of the bar plot, useful for long category names.\n",
    "   - **Example**:\n",
    "     ```python\n",
    "     plt.barh(fuel_type_counts.index, fuel_type_counts.values)\n",
    "     plt.show()\n",
    "     ```\n",
    "\n",
    "### 6. **Stacked Bar Plot**\n",
    "   - **Usage**: Visualizes multiple categorical variables, stacking their counts on top of each other.\n",
    "   - **Note**: Requires a second categorical variable.\n",
    "   - **Example**:\n",
    "     ```python\n",
    "     pd.crosstab(df['Category1'], df['Category2']).plot(kind='bar', stacked=True)\n",
    "     plt.show()\n",
    "     ```\n",
    "\n",
    "### 7. **Box Plot** (with Seaborn or Matplotlib)\n",
    "   - **Usage**: Typically used for numeric data, but can be adapted to show the spread of a categorical variable.\n",
    "   - **Example**:\n",
    "     ```python\n",
    "     sns.boxplot(x='Fuel_Type', y='Some_Numeric_Column', data=df)\n",
    "     plt.show()\n",
    "     ```\n",
    "\n",
    "These plots can help you visualize the distribution and proportions of categories in a single categorical column."
   ]
  },
  {
   "cell_type": "code",
   "execution_count": 224,
   "id": "9bac7628",
   "metadata": {},
   "outputs": [
    {
     "data": {
      "image/png": "[encoded data removed]",
      "text/plain": [
       "<Figure size 800x600 with 1 Axes>"
      ]
     },
     "metadata": {},
     "output_type": "display_data"
    }
   ],
   "source": [
    "\n",
    "\n",
    "# Count the number of occurrences for each brand, sorted in descending order\n",
    "brand_counts = df['Brand'].value_counts(ascending=True)\n",
    "\n",
    "# Plotting the data\n",
    "plt.figure(figsize=(8, 6))\n",
    "bars = plt.barh(brand_counts.index, brand_counts.values, color='green')\n",
    "\n",
    "# Display the count next to each bar\n",
    "for bar in bars:\n",
    "    xval = bar.get_width()  # Get the width of the bar (the count)\n",
    "    plt.text(xval, bar.get_y() + bar.get_height()/2, int(xval), va='center')\n",
    "\n",
    "# Add labels and title\n",
    "plt.xlabel('Number of Cars')\n",
    "plt.ylabel('Brand')\n",
    "plt.title('Number of Cars by Brand')\n",
    "\n",
    "# Show the plot\n",
    "plt.show()\n"
   ]
  },
  {
   "cell_type": "code",
   "execution_count": null,
   "id": "80f3c930",
   "metadata": {},
   "outputs": [],
   "source": [
    "Observation: \n",
    "- From the above plot we can observe that Hyundai cars are more for sale.\n",
    "top 5 used cars for sale: \n",
    "least "
   ]
  },
  {
   "cell_type": "code",
   "execution_count": 64,
   "id": "e4358424",
   "metadata": {},
   "outputs": [
    {
     "data": {
      "text/plain": [
       "<Axes: ylabel='Brand'>"
      ]
     },
     "execution_count": 64,
     "metadata": {},
     "output_type": "execute_result"
    },
    {
     "data": {
      "image/png": "[encoded data removed]",
      "text/plain": [
       "<Figure size 640x480 with 1 Axes>"
      ]
     },
     "metadata": {},
     "output_type": "display_data"
    }
   ],
   "source": [
    "df['Brand'].value_counts()[0:10].plot.pie(autopct =' %.2f')"
   ]
  },
  {
   "cell_type": "markdown",
   "id": "c78c0a5e",
   "metadata": {},
   "source": []
  },
  {
   "cell_type": "code",
   "execution_count": 65,
   "id": "e1c82de5",
   "metadata": {},
   "outputs": [
    {
     "data": {
      "text/plain": [
       "Petrol                             674\n",
       "Diesel                             452\n",
       "Hybrid                              18\n",
       "Electric                            11\n",
       "Mild Hybrid(Electric + Petrol)       8\n",
       "Petrol + 1                           5\n",
       "CNG                                  3\n",
       "Diesel + 1                           3\n",
       "Mild Hybrid (Electric + Diesel)      1\n",
       "LPG + 1                              1\n",
       "Name: Fuel_Type, dtype: int64"
      ]
     },
     "execution_count": 65,
     "metadata": {},
     "output_type": "execute_result"
    }
   ],
   "source": [
    "df['Fuel_Type'].value_counts()"
   ]
  },
  {
   "cell_type": "code",
   "execution_count": 7,
   "id": "ff781cc9",
   "metadata": {},
   "outputs": [
    {
     "data": {
      "text/plain": [
       "<Axes: ylabel='Fuel_Type'>"
      ]
     },
     "execution_count": 7,
     "metadata": {},
     "output_type": "execute_result"
    },
    {
     "data": {
      "image/png": "[encoded data removed]",
      "text/plain": [
       "<Figure size 640x480 with 1 Axes>"
      ]
     },
     "metadata": {},
     "output_type": "display_data"
    }
   ],
   "source": [
    "df['Fuel_Type'].value_counts()[0:4].plot.pie(autopct =' %.2f')"
   ]
  },
  {
   "cell_type": "markdown",
   "id": "c37806e2",
   "metadata": {},
   "source": [
    "observation:\n",
    "- most of the cars is of petrol type followed by diesel and hybrid."
   ]
  },
  {
   "cell_type": "code",
   "execution_count": 67,
   "id": "c77fdfaf",
   "metadata": {},
   "outputs": [
    {
     "data": {
      "text/plain": [
       "<Axes: ylabel='Fuel_Type'>"
      ]
     },
     "execution_count": 67,
     "metadata": {},
     "output_type": "execute_result"
    },
    {
     "data": {
      "image/png": "[encoded data removed]",
      "text/plain": [
       "<Figure size 640x480 with 1 Axes>"
      ]
     },
     "metadata": {},
     "output_type": "display_data"
    }
   ],
   "source": [
    "df['Fuel_Type'].value_counts()[4:].plot.pie(autopct =' %.2f')"
   ]
  },
  {
   "cell_type": "markdown",
   "id": "ba8ce2b9",
   "metadata": {},
   "source": [
    "observation:\n",
    "- most of the cars is of petrol type followed by diesel and hybrid."
   ]
  },
  {
   "cell_type": "markdown",
   "id": "5d378a71",
   "metadata": {},
   "source": [
    "Numerical:\n",
    "    \n",
    "    Hist\n",
    "    density"
   ]
  },
  {
   "cell_type": "code",
   "execution_count": 68,
   "id": "954d67a9",
   "metadata": {},
   "outputs": [
    {
     "data": {
      "text/plain": [
       "<seaborn.axisgrid.FacetGrid at 0x179deb6d0>"
      ]
     },
     "execution_count": 68,
     "metadata": {},
     "output_type": "execute_result"
    },
    {
     "data": {
      "image/png": "[encoded data removed]",
      "text/plain": [
       "<Figure size 500x500 with 1 Axes>"
      ]
     },
     "metadata": {},
     "output_type": "display_data"
    }
   ],
   "source": [
    "sns.displot( data=df[\"Distance_kms_driven\"], kde=True )"
   ]
  },
  {
   "cell_type": "code",
   "execution_count": 69,
   "id": "b23a927e",
   "metadata": {},
   "outputs": [
    {
     "data": {
      "image/png": "[encoded data removed]",
      "text/plain": [
       "<Figure size 1000x600 with 1 Axes>"
      ]
     },
     "metadata": {},
     "output_type": "display_data"
    }
   ],
   "source": [
    "plt.figure(figsize=(10, 6))\n",
    "plt.hist(df['Distance_kms_driven'], bins=30, color='skyblue', edgecolor='black')\n",
    "\n",
    "# Step 2: Add labels and title\n",
    "plt.xlabel('kms')\n",
    "plt.title('Histogram of kms')\n",
    "\n",
    "# Step 3: Show the plot\n",
    "plt.show()"
   ]
  },
  {
   "cell_type": "code",
   "execution_count": 70,
   "id": "4034ecab",
   "metadata": {},
   "outputs": [
    {
     "data": {
      "text/plain": [
       "<Axes: xlabel='Distance_kms_driven'>"
      ]
     },
     "execution_count": 70,
     "metadata": {},
     "output_type": "execute_result"
    },
    {
     "data": {
      "image/png": "[encoded data removed]",
      "text/plain": [
       "<Figure size 640x480 with 1 Axes>"
      ]
     },
     "metadata": {},
     "output_type": "display_data"
    }
   ],
   "source": [
    "sns.boxplot(x = df['Distance_kms_driven'])"
   ]
  },
  {
   "cell_type": "code",
   "execution_count": 71,
   "id": "293404f3",
   "metadata": {},
   "outputs": [],
   "source": [
    "import pandas as pd\n",
    "import numpy as np\n",
    "from bs4 import BeautifulSoup\n",
    "import requests\n",
    "import re"
   ]
  },
  {
   "cell_type": "markdown",
   "id": "68afb7ec",
   "metadata": {},
   "source": [
    "- observation:- \n",
    "    - After 150000 the outlier has been started."
   ]
  },
  {
   "cell_type": "code",
   "execution_count": 55,
   "id": "e288aee4",
   "metadata": {},
   "outputs": [
    {
     "data": {
      "image/png": "[encoded data removed]",
      "text/plain": [
       "<Figure size 800x1000 with 1 Axes>"
      ]
     },
     "metadata": {},
     "output_type": "display_data"
    }
   ],
   "source": [
    "plt.figure(figsize=(8, 10))\n",
    "bin_edges = np.linspace(170000, 20000000, num=30)  # 30 bins for demonstration\n",
    "\n",
    "plt.hist(df['price(₹)'], bins=bin_edges, color='skyblue', edgecolor='black')\n",
    "plt.xlabel('price')\n",
    "plt.ylabel('Frequency')\n",
    "plt.title('Histogram')\n",
    "plt.show()"
   ]
  },
  {
   "cell_type": "code",
   "execution_count": 56,
   "id": "07d685ad",
   "metadata": {},
   "outputs": [
    {
     "data": {
      "text/plain": [
       "28500000.0"
      ]
     },
     "execution_count": 56,
     "metadata": {},
     "output_type": "execute_result"
    }
   ],
   "source": [
    "df['price(₹)'].max()"
   ]
  },
  {
   "cell_type": "code",
   "execution_count": 57,
   "id": "7fbc55af",
   "metadata": {},
   "outputs": [
    {
     "data": {
      "text/html": [
       "<div>\n",
       "<style scoped>\n",
       "    .dataframe tbody tr th:only-of-type {\n",
       "        vertical-align: middle;\n",
       "    }\n",
       "\n",
       "    .dataframe tbody tr th {\n",
       "        vertical-align: top;\n",
       "    }\n",
       "\n",
       "    .dataframe thead th {\n",
       "        text-align: right;\n",
       "    }\n",
       "</style>\n",
       "<table border=\"1\" class=\"dataframe\">\n",
       "  <thead>\n",
       "    <tr style=\"text-align: right;\">\n",
       "      <th></th>\n",
       "      <th>Year of Manufacture</th>\n",
       "      <th>Brand</th>\n",
       "      <th>Model</th>\n",
       "      <th>Fuel_Type</th>\n",
       "      <th>location</th>\n",
       "      <th>price(₹)</th>\n",
       "      <th>Distance_kms_driven</th>\n",
       "      <th>Vehicle_Grade</th>\n",
       "    </tr>\n",
       "  </thead>\n",
       "  <tbody>\n",
       "    <tr>\n",
       "      <th>0</th>\n",
       "      <td>2016</td>\n",
       "      <td>Hyundai</td>\n",
       "      <td>Creta 1 6 SX Plus AT 11 75 000 Make Offer 45 3...</td>\n",
       "      <td>Diesel</td>\n",
       "      <td>Singasandra</td>\n",
       "      <td>1175000.0</td>\n",
       "      <td>45315</td>\n",
       "      <td>old</td>\n",
       "    </tr>\n",
       "    <tr>\n",
       "      <th>1</th>\n",
       "      <td>2021</td>\n",
       "      <td>Hyundai</td>\n",
       "      <td>Creta SX O 1 5 Petrol CVT 2020 2022 16 85 000 ...</td>\n",
       "      <td>Petrol</td>\n",
       "      <td>Singasandra</td>\n",
       "      <td>1685000.0</td>\n",
       "      <td>15925</td>\n",
       "      <td>moderate</td>\n",
       "    </tr>\n",
       "    <tr>\n",
       "      <th>2</th>\n",
       "      <td>2021</td>\n",
       "      <td>Hyundai</td>\n",
       "      <td>Creta SX 1 5 Petrol Executive 14 65 000 Make O...</td>\n",
       "      <td>Petrol</td>\n",
       "      <td>Singasandra</td>\n",
       "      <td>1465000.0</td>\n",
       "      <td>5070</td>\n",
       "      <td>moderate</td>\n",
       "    </tr>\n",
       "    <tr>\n",
       "      <th>3</th>\n",
       "      <td>2022</td>\n",
       "      <td>Mahindra</td>\n",
       "      <td>XUV700 AX 7 Diesel AT AWD Luxury Pack 7 STR 20...</td>\n",
       "      <td>Diesel</td>\n",
       "      <td>Singasandra</td>\n",
       "      <td>2695000.0</td>\n",
       "      <td>29705</td>\n",
       "      <td>new</td>\n",
       "    </tr>\n",
       "    <tr>\n",
       "      <th>4</th>\n",
       "      <td>2018</td>\n",
       "      <td>Mahindra</td>\n",
       "      <td>XUV500 W7 AT 2018 2020 13 45 000 Make Offer 49...</td>\n",
       "      <td>Diesel</td>\n",
       "      <td>Singasandra</td>\n",
       "      <td>1345000.0</td>\n",
       "      <td>49131</td>\n",
       "      <td>moderate</td>\n",
       "    </tr>\n",
       "    <tr>\n",
       "      <th>...</th>\n",
       "      <td>...</td>\n",
       "      <td>...</td>\n",
       "      <td>...</td>\n",
       "      <td>...</td>\n",
       "      <td>...</td>\n",
       "      <td>...</td>\n",
       "      <td>...</td>\n",
       "      <td>...</td>\n",
       "    </tr>\n",
       "    <tr>\n",
       "      <th>1171</th>\n",
       "      <td>2022</td>\n",
       "      <td>Toyota</td>\n",
       "      <td>Fortuner 4X4 MT 2 8 Diesel 41 00 000 Make Offe...</td>\n",
       "      <td>Diesel</td>\n",
       "      <td>Banaswadi</td>\n",
       "      <td>4100000.0</td>\n",
       "      <td>25313</td>\n",
       "      <td>new</td>\n",
       "    </tr>\n",
       "    <tr>\n",
       "      <th>1172</th>\n",
       "      <td>2018</td>\n",
       "      <td>Land Rover</td>\n",
       "      <td>Range Rover Evoque SE 43 50 000 Make Offer Hom...</td>\n",
       "      <td>Diesel</td>\n",
       "      <td>Bilekahalli</td>\n",
       "      <td>4350000.0</td>\n",
       "      <td>69336</td>\n",
       "      <td>moderate</td>\n",
       "    </tr>\n",
       "    <tr>\n",
       "      <th>1173</th>\n",
       "      <td>2017</td>\n",
       "      <td>Honda</td>\n",
       "      <td>Brio S MT 4 45 000 Make Offer Home Test Drive ...</td>\n",
       "      <td>Petrol</td>\n",
       "      <td>Bilekahalli</td>\n",
       "      <td>445000.0</td>\n",
       "      <td>70986</td>\n",
       "      <td>moderate</td>\n",
       "    </tr>\n",
       "    <tr>\n",
       "      <th>1174</th>\n",
       "      <td>2022</td>\n",
       "      <td>Tata</td>\n",
       "      <td>Nexon XZ Plus O Diesel Dark Edition 12 50 000 ...</td>\n",
       "      <td>Diesel</td>\n",
       "      <td>Banaswadi</td>\n",
       "      <td>1250000.0</td>\n",
       "      <td>50000</td>\n",
       "      <td>new</td>\n",
       "    </tr>\n",
       "    <tr>\n",
       "      <th>1175</th>\n",
       "      <td>2021</td>\n",
       "      <td>Kia</td>\n",
       "      <td>Sonet HTX 1 0 iMT 2020 2021 10 85 000 Make Off...</td>\n",
       "      <td>Petrol</td>\n",
       "      <td>Banaswadi</td>\n",
       "      <td>1085000.0</td>\n",
       "      <td>5335</td>\n",
       "      <td>moderate</td>\n",
       "    </tr>\n",
       "  </tbody>\n",
       "</table>\n",
       "<p>1176 rows × 8 columns</p>\n",
       "</div>"
      ],
      "text/plain": [
       "      Year of Manufacture       Brand  \\\n",
       "0                    2016     Hyundai   \n",
       "1                    2021     Hyundai   \n",
       "2                    2021     Hyundai   \n",
       "3                    2022    Mahindra   \n",
       "4                    2018    Mahindra   \n",
       "...                   ...         ...   \n",
       "1171                 2022      Toyota   \n",
       "1172                 2018  Land Rover   \n",
       "1173                 2017       Honda   \n",
       "1174                 2022        Tata   \n",
       "1175                 2021         Kia   \n",
       "\n",
       "                                                  Model Fuel_Type  \\\n",
       "0     Creta 1 6 SX Plus AT 11 75 000 Make Offer 45 3...    Diesel   \n",
       "1     Creta SX O 1 5 Petrol CVT 2020 2022 16 85 000 ...    Petrol   \n",
       "2     Creta SX 1 5 Petrol Executive 14 65 000 Make O...    Petrol   \n",
       "3     XUV700 AX 7 Diesel AT AWD Luxury Pack 7 STR 20...    Diesel   \n",
       "4     XUV500 W7 AT 2018 2020 13 45 000 Make Offer 49...    Diesel   \n",
       "...                                                 ...       ...   \n",
       "1171  Fortuner 4X4 MT 2 8 Diesel 41 00 000 Make Offe...    Diesel   \n",
       "1172  Range Rover Evoque SE 43 50 000 Make Offer Hom...    Diesel   \n",
       "1173  Brio S MT 4 45 000 Make Offer Home Test Drive ...    Petrol   \n",
       "1174  Nexon XZ Plus O Diesel Dark Edition 12 50 000 ...    Diesel   \n",
       "1175  Sonet HTX 1 0 iMT 2020 2021 10 85 000 Make Off...    Petrol   \n",
       "\n",
       "         location   price(₹)  Distance_kms_driven Vehicle_Grade  \n",
       "0     Singasandra  1175000.0                45315           old  \n",
       "1     Singasandra  1685000.0                15925      moderate  \n",
       "2     Singasandra  1465000.0                 5070      moderate  \n",
       "3     Singasandra  2695000.0                29705           new  \n",
       "4     Singasandra  1345000.0                49131      moderate  \n",
       "...           ...        ...                  ...           ...  \n",
       "1171    Banaswadi  4100000.0                25313           new  \n",
       "1172  Bilekahalli  4350000.0                69336      moderate  \n",
       "1173  Bilekahalli   445000.0                70986      moderate  \n",
       "1174    Banaswadi  1250000.0                50000           new  \n",
       "1175    Banaswadi  1085000.0                 5335      moderate  \n",
       "\n",
       "[1176 rows x 8 columns]"
      ]
     },
     "execution_count": 57,
     "metadata": {},
     "output_type": "execute_result"
    }
   ],
   "source": [
    "df"
   ]
  },
  {
   "cell_type": "code",
   "execution_count": null,
   "id": "71de6559",
   "metadata": {},
   "outputs": [],
   "source": []
  }
 ],
 "metadata": {
  "kernelspec": {
   "display_name": "Python 3 (ipykernel)",
   "language": "python",
   "name": "python3"
  },
  "language_info": {
   "codemirror_mode": {
    "name": "ipython",
    "version": 3
   },
   "file_extension": ".py",
   "mimetype": "text/x-python",
   "name": "python",
   "nbconvert_exporter": "python",
   "pygments_lexer": "ipython3",
   "version": "3.10.9"
  }
 },
 "nbformat": 4,
 "nbformat_minor": 5
}
